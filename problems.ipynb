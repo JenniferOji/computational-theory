{
 "cells": [
  {
   "cell_type": "markdown",
   "id": "7f959f56",
   "metadata": {},
   "source": [
    "# Computational Theory "
   ]
  },
  {
   "cell_type": "code",
   "execution_count": 667,
   "id": "c7fce335",
   "metadata": {},
   "outputs": [],
   "source": [
    "# for numerical data and methods \n",
    "import numpy as np "
   ]
  },
  {
   "cell_type": "markdown",
   "id": "bd857351",
   "metadata": {},
   "source": [
    "## Problem 1: Binary Words and Operations\n"
   ]
  },
  {
   "cell_type": "markdown",
   "id": "8334d2fe",
   "metadata": {},
   "source": [
    "The `numpy.int32()` constructor ([see official documentation] https://numpy.org/doc/stable/reference/arrays.scalars.html#numpy.int32) ensures that values are stored and treated as 32-bit signed integers in NumPy."
   ]
  },
  {
   "cell_type": "code",
   "execution_count": 668,
   "id": "2100ead9",
   "metadata": {},
   "outputs": [],
   "source": [
    "def parity(x,y,z):\n",
    "    \"\"\"Calculate the parity of three 32-bit integers\"\"\"\n",
    "    # Ensure inputs are treated as 32-bit integers as per SHA-1 specification.\n",
    "    # See: https://numpy.org/doc/stable/reference/arrays.scalars.html#numpy.int32\n",
    "    x = np.int32(x)\n",
    "    y = np.int32(y)\n",
    "    z = np.int32(z)\n",
    "    \n",
    "    # Calculate the bitwise XOR operation on the three 32-bit values.\n",
    "    parity_output = np.int32(x ^ y ^ z)\n",
    "    # Return the result.\n",
    "    return parity_output"
   ]
  },
  {
   "cell_type": "markdown",
   "id": "e88b139d",
   "metadata": {},
   "source": [
    "### Parity Function\n",
    "The `parity` function calculates the bitwise XOR of three 32-bit integers, as defined in the SHA-1 algorithm. For each bit position, it returns a result of 1 when an odd number of the input values is set to 1, and 0 otherwise. This is implemented as x ^ y ^ z."
   ]
  },
  {
   "cell_type": "code",
   "execution_count": 669,
   "id": "f23ff5db",
   "metadata": {},
   "outputs": [
    {
     "name": "stdout",
     "output_type": "stream",
     "text": [
      "TEST 1: parity(0, 0, 0)\n",
      "Result :   0 \n",
      "Expected :  0 \n",
      "Correct :  True\n",
      "\n",
      "TEST 2: parity(1, 0, 0)\n",
      "Result :   1 \n",
      "Expected :  1 \n",
      "Correct :  True\n",
      "\n",
      "TEST 3: parity(1, 1, 0)\n",
      "Result :   0 \n",
      "Expected :  0 \n",
      "Correct :  True\n",
      "\n",
      "TEST 4: parity(-1, -2, -3)\n",
      "Result :   -4 \n",
      "Expected :  -4 \n",
      "Correct :  True\n",
      "\n",
      "TEST 5: parity(2, -4, 5)\n",
      "Result :   -5 \n",
      "Expected :  -5 \n",
      "Correct :  True\n",
      "\n",
      "TEST 6: parity(1, 1, 1)\n",
      "Result :   1 \n",
      "Expected :  1 \n",
      "Correct :  True\n",
      "\n",
      "TEST 7: parity(-1, -1, -1)\n",
      "Result :   -1 \n",
      "Expected :  -1 \n",
      "Correct :  True\n"
     ]
    }
   ],
   "source": [
    "# Test parity function \n",
    "# Test 1: All zeros\n",
    "print(\"TEST 1: parity(0, 0, 0)\")\n",
    "test_result = parity(0, 0, 0)\n",
    "expected_result = 0\n",
    "print(\"Result :  \", test_result, \"\\nExpected : \", expected_result, \"\\nCorrect : \", test_result == expected_result)\n",
    "\n",
    "# Test 2: One non-zero input\n",
    "print(\"\\nTEST 2: parity(1, 0, 0)\")\n",
    "test_result = parity(1, 0, 0)\n",
    "expected_result = 1\n",
    "print(\"Result :  \", test_result, \"\\nExpected : \", expected_result, \"\\nCorrect : \", test_result == expected_result)\n",
    "\n",
    "# Test 3: Two non-zero inputs\n",
    "print(\"\\nTEST 3: parity(1, 1, 0)\")\n",
    "test_result = parity(1, 1, 0)\n",
    "expected_result = 0\n",
    "print(\"Result :  \", test_result, \"\\nExpected : \", expected_result, \"\\nCorrect : \", test_result == expected_result)\n",
    "\n",
    "# Test 4: Negative numbers\n",
    "print(\"\\nTEST 4: parity(-1, -2, -3)\")\n",
    "test_result = parity(-1, -2, -3)\n",
    "expected_result = -4\n",
    "print(\"Result :  \", test_result, \"\\nExpected : \", expected_result, \"\\nCorrect : \", test_result == expected_result)\n",
    "\n",
    "# Test 5: Mixed inputs\n",
    "print(\"\\nTEST 5: parity(2, -4, 5)\")\n",
    "test_result = parity(2, -4, 5)\n",
    "expected_result = -5\n",
    "print(\"Result :  \", test_result, \"\\nExpected : \", expected_result, \"\\nCorrect : \", test_result == expected_result)\n",
    "\n",
    "# Test 6: All ones\n",
    "print(\"\\nTEST 6: parity(1, 1, 1)\")\n",
    "test_result = parity(1, 1, 1)\n",
    "expected_result = 1\n",
    "print(\"Result :  \", test_result, \"\\nExpected : \", expected_result, \"\\nCorrect : \", test_result == expected_result)\n",
    "\n",
    "# Test 7: Three negative inputs\n",
    "print(\"\\nTEST 7: parity(-1, -1, -1)\")\n",
    "test_result = parity(-1, -1, -1)\n",
    "expected_result = -1\n",
    "print(\"Result :  \", test_result, \"\\nExpected : \", expected_result, \"\\nCorrect : \", test_result == expected_result)"
   ]
  },
  {
   "cell_type": "code",
   "execution_count": 670,
   "id": "f93d3da0",
   "metadata": {},
   "outputs": [],
   "source": [
    "def ch(x, y, z):\n",
    "    \"\"\"Calculate the choose function for three 32-bit integers\"\"\"\n",
    "    # Ensure inputs are treated as 32-bit integers as per SHA-1 specification.\n",
    "    # See: https://numpy.org/doc/stable/reference/arrays.scalars.html#numpy.int32\n",
    "    x = np.int32(x)\n",
    "    y = np.int32(y)\n",
    "    z = np.int32(z)\n",
    "    \n",
    "    # Bitwise AND of x and y.\n",
    "    bitwise_and = (x & y)\n",
    "    # Bitwise complement of x, then AND with z.\n",
    "    bitwise_complement_and = (~x) & z\n",
    "    # Calculate the bitwise XOR operation of the two results and cast to 32-bit integer.\n",
    "    ch_output = np.int32(bitwise_and ^ bitwise_complement_and)\n",
    "    # Return the result.\n",
    "    return ch_output "
   ]
  },
  {
   "cell_type": "markdown",
   "id": "40a331c6",
   "metadata": {},
   "source": [
    "### Choose Function\n",
    "The `choose` function, used in the SHA-224 and SHA-256 algorithms, calculates a conditional selection among three 32-bit integers. For each bit position, it returns the bit from y if the bit in x is 1, or the bit from z if the bit in x is 0. This is implemented as (x & y) ^(~x & z)."
   ]
  },
  {
   "cell_type": "code",
   "execution_count": 671,
   "id": "ffa5215c",
   "metadata": {},
   "outputs": [
    {
     "name": "stdout",
     "output_type": "stream",
     "text": [
      "TEST 1: ch(0, 0, 0)\n",
      "Result :   0 \n",
      "Expected :  0 \n",
      "Correct :  True\n",
      "\n",
      "TEST 2: ch(1, 1, 1)\n",
      "Result :   1 \n",
      "Expected :  1 \n",
      "Correct :  True\n",
      "\n",
      "TEST 3: ch(0, 0, 1)\n",
      "Result :   1 \n",
      "Expected :  1 \n",
      "Correct :  True\n",
      "\n",
      "TEST 4: ch(1, 1, 0)\n",
      "Result :   1 \n",
      "Expected :  1 \n",
      "Correct :  True\n",
      "\n",
      "TEST 5: ch(-1, -1, -1)\n",
      "Result :   -1 \n",
      "Expected :  -1 \n",
      "Correct :  True\n",
      "\n",
      "TEST 6: ch(-1, 0, 1)\n",
      "Result :   0 \n",
      "Expected :  0 \n",
      "Correct :  True\n"
     ]
    }
   ],
   "source": [
    "# Test ch function \n",
    "\n",
    "# Test 1: All zeros\n",
    "print(\"TEST 1: ch(0, 0, 0)\")\n",
    "test_result = ch(0, 0, 0)\n",
    "expected_result = 0\n",
    "print(\"Result :  \", test_result, \"\\nExpected : \", expected_result, \"\\nCorrect : \", test_result == expected_result)\n",
    "\n",
    "# Test 2: All ones\n",
    "print(\"\\nTEST 2: ch(1, 1, 1)\")\n",
    "test_result = ch(1, 1, 1)\n",
    "expected_result = 1\n",
    "print(\"Result :  \", test_result, \"\\nExpected : \", expected_result, \"\\nCorrect : \", test_result == expected_result)\n",
    "\n",
    "# Test 3: Only z is non-zero\n",
    "print(\"\\nTEST 3: ch(0, 0, 1)\")\n",
    "test_result = ch(0, 0, 1)\n",
    "expected_result = 1\n",
    "print(\"Result :  \", test_result, \"\\nExpected : \", expected_result, \"\\nCorrect : \", test_result == expected_result)\n",
    "\n",
    "# Test 4: Only z is zero\n",
    "print(\"\\nTEST 4: ch(1, 1, 0)\")\n",
    "test_result = ch(1, 1, 0)\n",
    "expected_result = 1\n",
    "print(\"Result :  \", test_result, \"\\nExpected : \", expected_result, \"\\nCorrect : \", test_result == expected_result)\n",
    "\n",
    "# Test 5: All negative ones\n",
    "print(\"\\nTEST 5: ch(-1, -1, -1)\")\n",
    "test_result = ch(-1, -1, -1)\n",
    "expected_result = -1\n",
    "print(\"Result :  \", test_result, \"\\nExpected : \", expected_result, \"\\nCorrect : \", test_result == expected_result)\n",
    "\n",
    "# Test 6: Negative and positive numbers \n",
    "print(\"\\nTEST 6: ch(-1, 0, 1)\")\n",
    "test_result = ch(-1, 0, 1)\n",
    "expected_result = 0\n",
    "print(\"Result :  \", test_result, \"\\nExpected : \", expected_result, \"\\nCorrect : \", test_result == expected_result)\n"
   ]
  },
  {
   "cell_type": "code",
   "execution_count": 672,
   "id": "e5e10dbd",
   "metadata": {},
   "outputs": [],
   "source": [
    "def maj(x, y, z):\n",
    "    \"\"\"Calculate the majority value of three 32-bit integers.\"\"\"\n",
    "    # The np.int32() constructor ensures inputs are treated as 32-bit integers. \n",
    "    # See: https://numpy.org/doc/stable/reference/arrays.scalars.html#numpy.int32\n",
    "    x = np.int32(x)\n",
    "    y = np.int32(y)\n",
    "    z = np.int32(z)\n",
    "\n",
    "    # Bitwise AND of x and y.\n",
    "    bitwise_and_x_y= (x & y)   \n",
    "    # Bitwise AND of x and z.\n",
    "    bitwise_and_x_z= (x & z) \n",
    "    # Bitwise AND of y and z.   \n",
    "    bitwise_and_y_z= (y & z)   \n",
    "    # Calculate the bitwise XOR operation on the three results and cast to 32-bit integer.\n",
    "    maj_output = np.int32(bitwise_and_x_y ^ bitwise_and_x_z ^ bitwise_and_y_z)\n",
    "    # Return the result\n",
    "    return maj_output "
   ]
  },
  {
   "cell_type": "markdown",
   "id": "980090b6",
   "metadata": {},
   "source": [
    "### Majority Function\n",
    "The `maj` function, used in the SHA-224 and SHA-256 algorithms, calculates the majority value among three 32-bit integers. For each bit position, it returns 1 if at least two of the three bits among x, y, and z are 1, and 0 otherwise. This is implemented as (x & y) ^ (x & z) ^ (y & z)."
   ]
  },
  {
   "cell_type": "code",
   "execution_count": 673,
   "id": "441b0b48",
   "metadata": {},
   "outputs": [
    {
     "name": "stdout",
     "output_type": "stream",
     "text": [
      "TEST 1: maj(0, 0, 0)\n",
      "Result :   0 \n",
      "Expected :  0 \n",
      "Correct :  True\n",
      "\n",
      "TEST 2: maj(1, 1, 1)\n",
      "Result :   1 \n",
      "Expected :  1 \n",
      "Correct :  True\n",
      "\n",
      "TEST 3: maj(1, 0, 0)\n",
      "Result :   0 \n",
      "Expected :  0 \n",
      "Correct :  True\n",
      "\n",
      "TEST 4: maj(2, 2, 0)\n",
      "Result :   2 \n",
      "Expected :  2 \n",
      "Correct :  True\n",
      "\n",
      "TEST 5: maj(3, 5, 7)\n",
      "Result :   7 \n",
      "Expected :  7 \n",
      "Correct :  True\n"
     ]
    }
   ],
   "source": [
    "# Test maj function\n",
    "# Test 1: All zeros\n",
    "print(\"TEST 1: maj(0, 0, 0)\")\n",
    "test_result = maj(0, 0, 0)\n",
    "expected_result = 0\n",
    "print(\"Result :  \", test_result, \"\\nExpected : \", expected_result, \"\\nCorrect : \", test_result == expected_result)\n",
    "\n",
    "# Test 2: All ones\n",
    "print(\"\\nTEST 2: maj(1, 1, 1)\")\n",
    "test_result = maj(1, 1, 1)\n",
    "expected_result = 1\n",
    "print(\"Result :  \", test_result, \"\\nExpected : \", expected_result, \"\\nCorrect : \", test_result == expected_result)\n",
    "\n",
    "# Test 3: One non-zero input\n",
    "print(\"\\nTEST 3: maj(1, 0, 0)\")\n",
    "test_result = maj(1, 0, 0)\n",
    "expected_result = 0\n",
    "print(\"Result :  \", test_result, \"\\nExpected : \", expected_result, \"\\nCorrect : \", test_result == expected_result)\n",
    "\n",
    "# Test 4: Two non-zero inputs\n",
    "print(\"\\nTEST 4: maj(2, 2, 0)\")\n",
    "test_result = maj(2, 2, 0)\n",
    "expected_result = 2\n",
    "print(\"Result :  \", test_result, \"\\nExpected : \", expected_result, \"\\nCorrect : \", test_result == expected_result)\n",
    "\n",
    "# Test 5: All different numbers\n",
    "print(\"\\nTEST 5: maj(3, 5, 7)\")\n",
    "test_result = maj(3, 5, 7)\n",
    "expected_result = 7\n",
    "print(\"Result :  \", test_result, \"\\nExpected : \", expected_result, \"\\nCorrect : \", test_result == expected_result)"
   ]
  },
  {
   "cell_type": "markdown",
   "id": "e2620a8c",
   "metadata": {},
   "source": [
    "## Problem 2: Fractional Parts of Cube Roots \n"
   ]
  },
  {
   "cell_type": "code",
   "execution_count": 674,
   "id": "fa6d20e1",
   "metadata": {},
   "outputs": [],
   "source": [
    "# Write a function called primes(n) that generates the first n prime numbers.\n",
    "\n",
    "# Use the function to calculate the cube root of the first 64 primes.\n",
    "\n",
    "# For each cube root, extract the first thirty-two bits of the fractional part.\n",
    "\n",
    "# Display the result in hexadecimal.\n",
    "\n",
    "# Test the results against what is in the Secure Hash Standard."
   ]
  },
  {
   "cell_type": "markdown",
   "id": "038e30a9",
   "metadata": {},
   "source": [
    "## Problem 3: Padding\n"
   ]
  },
  {
   "cell_type": "code",
   "execution_count": 675,
   "id": "4dd8118d",
   "metadata": {},
   "outputs": [],
   "source": [
    "# Write a generator function block_parse(msg) that processes messages according to section 5.1.1 and 5.2.1 of the Secure Hash Standard. "
   ]
  },
  {
   "cell_type": "markdown",
   "id": "4ba324ba",
   "metadata": {},
   "source": [
    "## Problem 4: Hashes\n"
   ]
  },
  {
   "cell_type": "code",
   "execution_count": 676,
   "id": "1567fdae",
   "metadata": {},
   "outputs": [],
   "source": [
    "# Write a function hash(current, block) that calculates the next hash value given the current hash value and the next message block according to section 6.2.2 SHA-256 Hash Computation on page 22 of the Secure Hash Standard."
   ]
  },
  {
   "cell_type": "markdown",
   "id": "a29081a2",
   "metadata": {},
   "source": [
    "## Problem 5: Passwords\n"
   ]
  },
  {
   "cell_type": "code",
   "execution_count": 677,
   "id": "016d9946",
   "metadata": {},
   "outputs": [],
   "source": [
    "# The following are the SHA-256 hashes of three common passwords that have been hashed using one pass of the SHA-256 algorithm. As strings, they were encoded using UTF-8. Determine the passwords and explain how you found them. "
   ]
  },
  {
   "cell_type": "markdown",
   "id": "32469bb5",
   "metadata": {},
   "source": [
    "## End"
   ]
  }
 ],
 "metadata": {
  "kernelspec": {
   "display_name": "base",
   "language": "python",
   "name": "python3"
  },
  "language_info": {
   "codemirror_mode": {
    "name": "ipython",
    "version": 3
   },
   "file_extension": ".py",
   "mimetype": "text/x-python",
   "name": "python",
   "nbconvert_exporter": "python",
   "pygments_lexer": "ipython3",
   "version": "3.12.7"
  }
 },
 "nbformat": 4,
 "nbformat_minor": 5
}
