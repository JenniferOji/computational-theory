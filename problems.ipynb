{
 "cells": [
  {
   "cell_type": "markdown",
   "id": "7f959f56",
   "metadata": {},
   "source": [
    "# Computational Theory "
   ]
  },
  {
   "cell_type": "markdown",
   "id": "7b1e8da8",
   "metadata": {},
   "source": [
    "### Libraries"
   ]
  },
  {
   "cell_type": "code",
   "execution_count": 2876,
   "id": "c7fce335",
   "metadata": {},
   "outputs": [],
   "source": [
    "# For numerical data and methods \n",
    "import numpy as np \n",
    "# For symbolic mathematics\n",
    "import sympy as sp"
   ]
  },
  {
   "cell_type": "markdown",
   "id": "bd857351",
   "metadata": {},
   "source": [
    "## Problem 1: Binary Words and Operations\n"
   ]
  },
  {
   "cell_type": "markdown",
   "id": "8334d2fe",
   "metadata": {},
   "source": [
    "The `numpy.uint32()` constructor ([see official documentation]( https://numpy.org/doc/stable/reference/arrays.scalars.html#numpy.int32)) ensures that values are stored and treated as 32-bit unsigned integers in NumPy, which is important for consistency and compatibility in numerical computations.\n"
   ]
  },
  {
   "cell_type": "markdown",
   "id": "42bf46e4",
   "metadata": {},
   "source": [
    "### Parity Function\n",
    "The `parity` function calculates the bitwise XOR of three 32-bit integers, as defined in the SHA-1 algorithm. For each bit position, it returns a result of 1 when an odd number of the input values is set to 1, and 0 otherwise. This is implemented as `x ^ y ^ z`."
   ]
  },
  {
   "cell_type": "code",
   "execution_count": 2877,
   "id": "2100ead9",
   "metadata": {},
   "outputs": [],
   "source": [
    "def parity(x,y,z):\n",
    "    \"\"\"Calculate the parity of three 32-bit integers\"\"\"\n",
    "    # np.uint32 ensures inputs are treated as 32-bit unsigned integers as per SHA-1 specification.\n",
    "    # See: https://numpy.org/doc/stable/reference/arrays.scalars.html#numpy.uint32\n",
    "    # Mask with 0xFFFFFFFF to keep only the lower 32 bits, handles negative numbers correctly and simulates 32-bit overflow behavior.\n",
    "    x = np.uint32(x & 0xFFFFFFFF)\n",
    "    y = np.uint32(y & 0xFFFFFFFF)\n",
    "    z = np.uint32(z & 0xFFFFFFFF)\n",
    "\n",
    "    # Calculate the bitwise XOR of the three 32-bit values to get the parity.\n",
    "    parity_output = np.uint32(x ^ y ^ z)\n",
    "    # Return the result.\n",
    "    return parity_output"
   ]
  },
  {
   "cell_type": "markdown",
   "id": "39b46e3f",
   "metadata": {},
   "source": [
    "### Test Parity Function\n",
    "This section tests the `parity` function with various inputs to verify its correctness."
   ]
  },
  {
   "cell_type": "code",
   "execution_count": 2878,
   "id": "f23ff5db",
   "metadata": {},
   "outputs": [
    {
     "name": "stdout",
     "output_type": "stream",
     "text": [
      "TEST 1: parity(0, 0, 0)\n",
      "Result :   0x0 \n",
      "Expected :  0x0 \n",
      "Correct :  True\n",
      "\n",
      "TEST 2: parity(1, 0, 0)\n",
      "Result :   0x1 \n",
      "Expected :  0x1 \n",
      "Correct :  True\n",
      "\n",
      "TEST 3: parity(1, 1, 0)\n",
      "Result :   0x0 \n",
      "Expected :  0x0 \n",
      "Correct :  True\n",
      "\n",
      "TEST 4: parity(-1, -2, -3)\n",
      "Result :   0xfffffffc \n",
      "Expected :  0xfffffffc \n",
      "Correct :  True\n",
      "\n",
      "TEST 5: parity(2, -4, 5)\n",
      "Result :   0xfffffffb \n",
      "Expected :  0xfffffffb \n",
      "Correct :  True\n",
      "\n",
      "TEST 6: parity(1, 1, 1)\n",
      "Result :   0x1 \n",
      "Expected :  0x1 \n",
      "Correct :  True\n",
      "\n",
      "TEST 7: parity(-1, -1, -1)\n",
      "Result :   0xffffffff \n",
      "Expected :  0xffffffff \n",
      "Correct :  True\n"
     ]
    }
   ],
   "source": [
    "# Test parity function \n",
    "# Test 1: All zeros\n",
    "print(\"TEST 1: parity(0, 0, 0)\")\n",
    "test_result = parity(0, 0, 0)\n",
    "expected_result = 0\n",
    "print(\"Result :  \", hex(test_result), \"\\nExpected : \", hex(expected_result), \"\\nCorrect : \", test_result == expected_result)\n",
    "\n",
    "# Test 2: One non-zero input\n",
    "print(\"\\nTEST 2: parity(1, 0, 0)\")\n",
    "test_result = parity(1, 0, 0)\n",
    "expected_result = 1\n",
    "print(\"Result :  \", hex(test_result), \"\\nExpected : \", hex(expected_result), \"\\nCorrect : \", test_result == expected_result)\n",
    "\n",
    "# Test 3: Two non-zero inputs\n",
    "print(\"\\nTEST 3: parity(1, 1, 0)\")\n",
    "test_result = parity(1, 1, 0)\n",
    "expected_result = 0\n",
    "print(\"Result :  \", hex(test_result), \"\\nExpected : \", hex(expected_result), \"\\nCorrect : \", test_result == expected_result)\n",
    "\n",
    "# Test 4: Negative numbers\n",
    "print(\"\\nTEST 4: parity(-1, -2, -3)\")\n",
    "test_result = parity(-1, -2, -3)\n",
    "expected_result = 4294967292\n",
    "print(\"Result :  \", hex(test_result), \"\\nExpected : \", hex(expected_result), \"\\nCorrect : \", test_result == expected_result)\n",
    "\n",
    "# Test 5: Mixed inputs\n",
    "print(\"\\nTEST 5: parity(2, -4, 5)\")\n",
    "test_result = parity(2, -4, 5)\n",
    "expected_result = 4294967291\n",
    "print(\"Result :  \", hex(test_result), \"\\nExpected : \", hex(expected_result), \"\\nCorrect : \", test_result == expected_result)\n",
    "\n",
    "# Test 6: All ones\n",
    "print(\"\\nTEST 6: parity(1, 1, 1)\")\n",
    "test_result = parity(1, 1, 1)\n",
    "expected_result = 1\n",
    "print(\"Result :  \", hex(test_result), \"\\nExpected : \", hex(expected_result), \"\\nCorrect : \", test_result == expected_result)\n",
    "\n",
    "# Test 7: Three negative inputs\n",
    "print(\"\\nTEST 7: parity(-1, -1, -1)\")\n",
    "test_result = parity(-1, -1, -1)\n",
    "expected_result = 4294967295\n",
    "print(\"Result :  \", hex(test_result), \"\\nExpected : \", hex(expected_result), \"\\nCorrect : \", test_result == expected_result)"
   ]
  },
  {
   "cell_type": "markdown",
   "id": "b4444a35",
   "metadata": {},
   "source": [
    "### Ch (choose) Function\n",
    "The `choose` function, used in the SHA-224 and SHA-256 algorithms, calculates a conditional selection among three 32-bit integers. For each bit position, it returns the bit from y if the bit in x is 1, or the bit from z if the bit in x is 0. This is implemented as `(x & y) ^(~x & z)`."
   ]
  },
  {
   "cell_type": "code",
   "execution_count": 2879,
   "id": "f93d3da0",
   "metadata": {},
   "outputs": [],
   "source": [
    "def ch(x, y, z):\n",
    "    \"\"\"Calculate the choose function for three 32-bit integers\"\"\"\n",
    "    # np.uint32 ensures inputs are treated as 32-bit unsigned integers as per SHA-1 specification.\n",
    "    # See: https://numpy.org/doc/stable/reference/arrays.scalars.html#numpy.uint32\n",
    "    # Mask with 0xFFFFFFFF to keep only the lower 32 bits, handles negative numbers correctly and simulates 32-bit overflow behavior.\n",
    "    x = np.uint32(x & 0xFFFFFFFF)\n",
    "    y = np.uint32(y & 0xFFFFFFFF)\n",
    "    z = np.uint32(z & 0xFFFFFFFF)\n",
    "    \n",
    "    # Bitwise AND of x and y.\n",
    "    bitwise_and = (x & y)\n",
    "    # Bitwise complement of x, then AND with z.\n",
    "    bitwise_complement_and = (~x) & z\n",
    "    # Calculate the bitwise XOR of the two results and cast to 32-bit integer.\n",
    "    # This selects bits from y or z based on the value of x.\n",
    "    ch_output = np.uint32(bitwise_and ^ bitwise_complement_and)\n",
    "    \n",
    "    # Return the result.\n",
    "    return ch_output "
   ]
  },
  {
   "cell_type": "markdown",
   "id": "ad9fbfc6",
   "metadata": {},
   "source": [
    "### Test Ch Function\n",
    "This section tests the `ch` function with various inputs to verify its correctness."
   ]
  },
  {
   "cell_type": "code",
   "execution_count": 2880,
   "id": "ffa5215c",
   "metadata": {},
   "outputs": [
    {
     "name": "stdout",
     "output_type": "stream",
     "text": [
      "TEST 1: ch(0, 0, 0)\n",
      "Result :   0x0 \n",
      "Expected :  0x0 \n",
      "Correct :  True\n",
      "\n",
      "TEST 2: ch(1, 1, 1)\n",
      "Result :   0x1 \n",
      "Expected :  0x1 \n",
      "Correct :  True\n",
      "\n",
      "TEST 3: ch(0, 0, 1)\n",
      "Result :   0x1 \n",
      "Expected :  0x1 \n",
      "Correct :  True\n",
      "\n",
      "TEST 4: ch(1, 1, 0)\n",
      "Result :   0x1 \n",
      "Expected :  0x1 \n",
      "Correct :  True\n",
      "\n",
      "TEST 5: ch(-1, -1, -1)\n",
      "Result :   0xffffffff \n",
      "Expected :  0xffffffff \n",
      "Correct :  True\n",
      "\n",
      "TEST 6: ch(-1, 0, 1)\n",
      "Result :   0x0 \n",
      "Expected :  0x0 \n",
      "Correct :  True\n"
     ]
    }
   ],
   "source": [
    "# Test ch function \n",
    "# Test 1: All zeros\n",
    "print(\"TEST 1: ch(0, 0, 0)\")\n",
    "test_result = ch(0, 0, 0)\n",
    "expected_result = 0\n",
    "print(\"Result :  \", hex(test_result), \"\\nExpected : \", hex(expected_result), \"\\nCorrect : \", test_result == expected_result)\n",
    "\n",
    "# Test 2: All ones\n",
    "print(\"\\nTEST 2: ch(1, 1, 1)\")\n",
    "test_result = ch(1, 1, 1)\n",
    "expected_result = 1\n",
    "print(\"Result :  \", hex(test_result), \"\\nExpected : \", hex(expected_result), \"\\nCorrect : \", test_result == expected_result)\n",
    "\n",
    "# Test 3: Only z is non-zero\n",
    "print(\"\\nTEST 3: ch(0, 0, 1)\")\n",
    "test_result = ch(0, 0, 1)\n",
    "expected_result = 1\n",
    "print(\"Result :  \", hex(test_result), \"\\nExpected : \", hex(expected_result), \"\\nCorrect : \", test_result == expected_result)\n",
    "\n",
    "# Test 4: Only z is zero\n",
    "print(\"\\nTEST 4: ch(1, 1, 0)\")\n",
    "test_result = ch(1, 1, 0)\n",
    "expected_result = 1\n",
    "print(\"Result :  \", hex(test_result), \"\\nExpected : \", hex(expected_result), \"\\nCorrect : \", test_result == expected_result)\n",
    "\n",
    "# Test 5: All negative ones\n",
    "print(\"\\nTEST 5: ch(-1, -1, -1)\")\n",
    "test_result = ch(-1, -1, -1)\n",
    "expected_result = 4294967295\n",
    "print(\"Result :  \", hex(test_result), \"\\nExpected : \", hex(expected_result), \"\\nCorrect : \", test_result == expected_result)\n",
    "\n",
    "# Test 6: Negative and positive numbers \n",
    "print(\"\\nTEST 6: ch(-1, 0, 1)\")\n",
    "test_result = ch(-1, 0, 1)\n",
    "expected_result = 0\n",
    "print(\"Result :  \", hex(test_result), \"\\nExpected : \", hex(expected_result), \"\\nCorrect : \", test_result == expected_result)\n"
   ]
  },
  {
   "cell_type": "markdown",
   "id": "3aead48f",
   "metadata": {},
   "source": [
    "### Majority Function\n",
    "The `maj` function, used in the SHA-224 and SHA-256 algorithms, calculates the majority value among three 32-bit integers. For each bit position, it returns 1 if at least two of the three bits among x, y, and z are 1, and 0 otherwise. This is implemented as `(x & y) ^ (x & z) ^ (y & z)`."
   ]
  },
  {
   "cell_type": "code",
   "execution_count": 2881,
   "id": "e5e10dbd",
   "metadata": {},
   "outputs": [],
   "source": [
    "def maj(x, y, z):\n",
    "    \"\"\"Calculate the majority value of three 32-bit integers.\"\"\"\n",
    "    # The np.uint32() constructor ensures inputs are treated as unsigned 32-bit integers. \n",
    "    # See: https://numpy.org/doc/stable/reference/arrays.scalars.html#numpy.uint32\n",
    "    # Mask with 0xFFFFFFFF to ensure only the lower 32 bits are kept to handle negative inputs correctly.\n",
    "    x = np.uint32(x & 0xFFFFFFFF)\n",
    "    y = np.uint32(y & 0xFFFFFFFF)\n",
    "    z = np.uint32(z & 0xFFFFFFFF)\n",
    "\n",
    "    # Bitwise AND of x and y.\n",
    "    bitwise_and_x_y = (x & y)   \n",
    "    # Bitwise AND of x and z.\n",
    "    bitwise_and_x_z = (x & z) \n",
    "    # Bitwise AND of y and z.   \n",
    "    bitwise_and_y_z = (y & z)   \n",
    "\n",
    "    # Calculate the bitwise XOR of the three results to get the majority value and cast to a 32-bit integer.\n",
    "    maj_output = np.uint32(bitwise_and_x_y ^ bitwise_and_x_z ^ bitwise_and_y_z)\n",
    "    # Return the result.\n",
    "    return maj_output "
   ]
  },
  {
   "cell_type": "markdown",
   "id": "e8242160",
   "metadata": {},
   "source": [
    "### Test Maj Function\n",
    "This section tests the `maj` function with various inputs to verify its correctness."
   ]
  },
  {
   "cell_type": "code",
   "execution_count": 2882,
   "id": "441b0b48",
   "metadata": {},
   "outputs": [
    {
     "name": "stdout",
     "output_type": "stream",
     "text": [
      "TEST 1: maj(0, 0, 0)\n",
      "Result   :  0x0 \n",
      "Expected :  0x0 \n",
      "Correct  :  True\n",
      "\n",
      "TEST 2: maj(1, 1, 1)\n",
      "Result   :  0x1 \n",
      "Expected :  0x1 \n",
      "Correct :  True\n",
      "\n",
      "TEST 3: maj(1, 0, 0)\n",
      "Result   :  0x0 \n",
      "Expected :  0x0 \n",
      "Correct  :  True\n",
      "\n",
      "TEST 4: maj(2, 2, 0)\n",
      "Result   :  0x2 \n",
      "Expected :  0x2 \n",
      "Correct  :  True\n",
      "\n",
      "TEST 5: maj(3, 5, 7)\n",
      "Result   :  0x7 \n",
      "Expected :  0x7 \n",
      "Correct  :  True\n"
     ]
    }
   ],
   "source": [
    "# Test maj function\n",
    "# Test 1: All zeros\n",
    "print(\"TEST 1: maj(0, 0, 0)\")\n",
    "test_result = maj(0, 0, 0)\n",
    "expected_result = 0\n",
    "print(\"Result   : \", hex(test_result), \"\\nExpected : \", hex(expected_result), \"\\nCorrect  : \", test_result == expected_result)\n",
    "\n",
    "# Test 2: All ones\n",
    "print(\"\\nTEST 2: maj(1, 1, 1)\")\n",
    "test_result = maj(1, 1, 1)\n",
    "expected_result = 1\n",
    "print(\"Result   : \", hex(test_result), \"\\nExpected : \", hex(expected_result), \"\\nCorrect : \", test_result == expected_result)\n",
    "\n",
    "# Test 3: One non-zero input\n",
    "print(\"\\nTEST 3: maj(1, 0, 0)\")\n",
    "test_result = maj(1, 0, 0)\n",
    "expected_result = 0\n",
    "print(\"Result   : \", hex(test_result), \"\\nExpected : \", hex(expected_result), \"\\nCorrect  : \", test_result == expected_result)\n",
    "\n",
    "# Test 4: Two non-zero inputs\n",
    "print(\"\\nTEST 4: maj(2, 2, 0)\")\n",
    "test_result = maj(2, 2, 0)\n",
    "expected_result = 2\n",
    "print(\"Result   : \", hex(test_result), \"\\nExpected : \", hex(expected_result), \"\\nCorrect  : \", test_result == expected_result)\n",
    "\n",
    "# Test 5: All different numbers\n",
    "print(\"\\nTEST 5: maj(3, 5, 7)\")\n",
    "test_result = maj(3, 5, 7)\n",
    "expected_result = 7\n",
    "print(\"Result   : \", hex(test_result), \"\\nExpected : \", hex(expected_result), \"\\nCorrect  : \", test_result == expected_result)"
   ]
  },
  {
   "cell_type": "markdown",
   "id": "5348bde4",
   "metadata": {},
   "source": [
    "## Rotate Right (rotr)\n",
    "This helper function performs a bitwise rotate right operation on a 32-bit word. It is used in cryptographic algorithms such as SHA-1 and SHA-224/256, where rotation operations are part of the hash computation. In this project, `rotr` is a key component in the implementation of the sigma functions required for these algorithms."
   ]
  },
  {
   "cell_type": "code",
   "execution_count": 2883,
   "id": "25fdec6d",
   "metadata": {},
   "outputs": [],
   "source": [
    "def rotr(x,n):\n",
    "    \"\"\"Rotate right operation for 32-bit words: A helper function for the sigma functions.\"\"\"\n",
    "    # The np.uint32() constructor ensures inputs are treated as unsigned 32-bit integers. \n",
    "    # See: https://numpy.org/doc/stable/reference/arrays.scalars.html#numpy.uint32\n",
    "    x = np.uint32(x)\n",
    "    # 32 bit word size\n",
    "    return np.uint32(((x >> n) | (x << np.uint32(32 - n))) & np.uint32(0xFFFFFFFF))\n"
   ]
  },
  {
   "cell_type": "markdown",
   "id": "55674fbb",
   "metadata": {},
   "source": [
    "### Sigma0 Function\n",
    "In the SHA-224 and SHA-256 algorithms, the `sigma0` function applies a series of bitwise operations to a single 32-bit integer.  It computes the bitwise XOR of three rotated versions of the input value — one by two bits to the right, one by thirteen bits, and one by twenty-two bits. This is implemented as `ROTR^2(x) ^ ROTR^13(x) ^ ROTR^22(x)`."
   ]
  },
  {
   "cell_type": "code",
   "execution_count": 2884,
   "id": "846398be",
   "metadata": {},
   "outputs": [],
   "source": [
    "def sigma_upper_0(x):\n",
    "    \"\"\"Calculate the Sigma0 value for a 32-bit integer.\"\"\"\n",
    "    # The np.uint32() constructor ensures inputs are treated as unsigned 32-bit integers. \n",
    "    # See: https://numpy.org/doc/stable/reference/arrays.scalars.html#numpy.uint32\n",
    "    # Mask with 0xFFFFFFFF to ensure only the lower 32 bits are kept to handle negative inputs correctly.\n",
    "    x = np.uint32(x & 0xFFFFFFFF)\n",
    "    \n",
    "    # Compute the bitwise XOR of three right rotated versions of the input value(x).\n",
    "    return (rotr(x, 2) ^ rotr(x, 13) ^ rotr(x, 22))\n"
   ]
  },
  {
   "cell_type": "markdown",
   "id": "08e0c445",
   "metadata": {},
   "source": [
    "### Test Sigma0 Function\n",
    "This section tests the `Sigma0` function with various inputs to verify its correctness."
   ]
  },
  {
   "cell_type": "code",
   "execution_count": 2885,
   "id": "d1040ce0",
   "metadata": {},
   "outputs": [
    {
     "name": "stdout",
     "output_type": "stream",
     "text": [
      "\n",
      "TEST 1: sigma_upper_0(5)\n",
      "Result :   0x40281401 \n",
      "Expected :  0x40281401 \n",
      "Correct :  True\n",
      "\n",
      "TEST 2: sigma_upper_0(0)\n",
      "Result :   0x0 \n",
      "Expected :  0x0 \n",
      "Correct :  True\n",
      "\n",
      "TEST 3: sigma_upper_0(1)\n",
      "Result :   0x40080400 \n",
      "Expected :  0x40080400 \n",
      "Correct :  True\n",
      "\n",
      "TEST 4: sigma_upper_0(-1)\n",
      "Result :   0xffffffff \n",
      "Expected :  0xffffffff \n",
      "Correct :  True\n"
     ]
    }
   ],
   "source": [
    "# Test 1: A number other than 0 or 1\n",
    "print(\"\\nTEST 1: sigma_upper_0(5)\")\n",
    "test_result = sigma_upper_0(5)\n",
    "expected_result = 1076368385\n",
    "print(\"Result :  \", hex(test_result), \"\\nExpected : \", hex(expected_result), \"\\nCorrect : \", test_result == expected_result)\n",
    "\n",
    "# Test 2: A zero input\n",
    "print(\"\\nTEST 2: sigma_upper_0(0)\")\n",
    "test_result = sigma_upper_0(0)\n",
    "expected_result = 0\n",
    "print(\"Result :  \", hex(test_result), \"\\nExpected : \", hex(expected_result), \"\\nCorrect : \", test_result == expected_result)\n",
    "\n",
    "# Test 3: Input of one\n",
    "print(\"\\nTEST 3: sigma_upper_0(1)\")\n",
    "test_result = sigma_upper_0(1)\n",
    "expected_result = 1074267136\n",
    "print(\"Result :  \", hex(test_result), \"\\nExpected : \", hex(expected_result), \"\\nCorrect : \", test_result == expected_result)\n",
    "\n",
    "# Test 4: A negative input\n",
    "print(\"\\nTEST 4: sigma_upper_0(-1)\")\n",
    "test_result = sigma_upper_0(-1)\n",
    "expected_result = 4294967295\n",
    "print(\"Result :  \", hex(test_result), \"\\nExpected : \", hex(expected_result), \"\\nCorrect : \", test_result == expected_result)"
   ]
  },
  {
   "cell_type": "markdown",
   "id": "632f7223",
   "metadata": {},
   "source": [
    "### Sigma1 Function \n",
    "In the SHA-224 and SHA-256 algorithms, the `Sigma1` function applies a series of bitwise operations to a single 32-bit integer.  It computes the bitwise XOR of three rotated versions of the input value — one by six bits to the right, one by 11 bits, and one by twenty-five bits. This is implemented as `ROTR^6(x) ^ ROTR^11(x) ^ ROTR^25(x)`."
   ]
  },
  {
   "cell_type": "code",
   "execution_count": 2886,
   "id": "a6b2cc4d",
   "metadata": {},
   "outputs": [],
   "source": [
    "def sigma_upper_1(x):\n",
    "    \"\"\"Calculate the Sigma1 value for a 32-bit integer.\"\"\"\n",
    "    # The np.uint32() constructor ensures inputs are treated as unsigned 32-bit integers. \n",
    "    # See: https://numpy.org/doc/stable/reference/arrays.scalars.html#numpy.uint32\n",
    "    # Mask with 0xFFFFFFFF to ensure only the lower 32 bits are kept to handle negative inputs correctly.\n",
    "    x = np.uint32(x & 0xFFFFFFFF)\n",
    "\n",
    "    # Compute the bitwise XOR of three right-rotated versions of the input value(x).\n",
    "    return (rotr(x, 6) ^ rotr(x, 11) ^ rotr(x, 25))"
   ]
  },
  {
   "cell_type": "markdown",
   "id": "6c5006d8",
   "metadata": {},
   "source": [
    "### Test Sigma1 Function\n",
    "This section tests the `Sigma1` function with various inputs to verify its correctness."
   ]
  },
  {
   "cell_type": "code",
   "execution_count": 2887,
   "id": "8cd26cca",
   "metadata": {},
   "outputs": [
    {
     "name": "stdout",
     "output_type": "stream",
     "text": [
      "\n",
      "TEST 1: sigma_upper_1(5)\n",
      "Result :   0x14a00280 \n",
      "Expected :  0x14a00280 \n",
      "Correct :  True\n",
      "\n",
      "TEST 2: sigma_upper_1(0)\n",
      "Result :   0x0 \n",
      "Expected :  0x0 \n",
      "Correct :  True\n",
      "\n",
      "TEST 3: sigma_upper_1(1)\n",
      "Result :   0x4200080 \n",
      "Expected :  0x4200080 \n",
      "Correct :  True\n",
      "\n",
      "TEST 4: sigma_upper_1(-1)\n",
      "Result :   0xffffffff \n",
      "Expected :  0xffffffff \n",
      "Correct :  True\n"
     ]
    }
   ],
   "source": [
    "# Test 1: Input other than 0 or 1\n",
    "print(\"\\nTEST 1: sigma_upper_1(5)\")\n",
    "test_result = sigma_upper_1(5)\n",
    "expected_result = 346030720  \n",
    "print(\"Result :  \", hex(test_result), \"\\nExpected : \", hex(expected_result), \"\\nCorrect : \", test_result == expected_result)\n",
    "\n",
    "# Test 2: A zero input\n",
    "print(\"\\nTEST 2: sigma_upper_1(0)\")\n",
    "test_result = sigma_upper_1(0)\n",
    "expected_result = 0 \n",
    "print(\"Result :  \", hex(test_result), \"\\nExpected : \", hex(expected_result), \"\\nCorrect : \", test_result == expected_result)\n",
    "\n",
    "# Test 3: An input of one\n",
    "print(\"\\nTEST 3: sigma_upper_1(1)\")\n",
    "test_result = sigma_upper_1(1)\n",
    "expected_result = 69206144 \n",
    "print(\"Result :  \", hex(test_result), \"\\nExpected : \", hex(expected_result), \"\\nCorrect : \", test_result == expected_result)\n",
    "\n",
    "# Test 4: A negative input\n",
    "print(\"\\nTEST 4: sigma_upper_1(-1)\")\n",
    "test_result = sigma_upper_1(-1)\n",
    "expected_result = 4294967295  \n",
    "print(\"Result :  \", hex(test_result), \"\\nExpected : \", hex(expected_result), \"\\nCorrect : \", test_result == expected_result)\n"
   ]
  },
  {
   "cell_type": "markdown",
   "id": "a951f659",
   "metadata": {},
   "source": []
  },
  {
   "cell_type": "markdown",
   "id": "3d1c152d",
   "metadata": {},
   "source": [
    "### The sigma0 Function \n",
    "In the SHA-224 and SHA-256 algorithms, the `sigma0` function applies a series of bitwise operations to a single 32-bit integer. It computes the bitwise XOR of two right-rotated versions of the input value—one rotated right by 7 bits, one rotated right by 18 bits—and the value shifted right by 3 bits. This is implemented as `ROTR^7(x) ^ ROTR^18(x) ^ SHR^3(x)`."
   ]
  },
  {
   "cell_type": "code",
   "execution_count": 2888,
   "id": "2948639f",
   "metadata": {},
   "outputs": [],
   "source": [
    "def sigma_lower_0(x):\n",
    "    \"\"\"Calculate the sigma0 value for a 32-bit integer.\"\"\"\n",
    "    # The np.uint32() constructor ensures inputs are treated as unsigned 32-bit integers. \n",
    "    # See: https://numpy.org/doc/stable/reference/arrays.scalars.html#numpy.uint32\n",
    "    # Mask with 0xFFFFFFFF to ensure only the lower 32 bits are kept to handle negative inputs correctly.\n",
    "    x = np.uint32(x & 0xFFFFFFFF)\n",
    "\n",
    "    # Compute the bitwise XOR of two right-rotated versions of the input value and the right-shifted value.\n",
    "    return (rotr(x, 7) ^ rotr(x, 18) ^ (x >> 3))"
   ]
  },
  {
   "cell_type": "markdown",
   "id": "1cae631c",
   "metadata": {},
   "source": [
    "### Test sigma0 Function \n",
    "This section tests the `sigma0` function with various inputs to verify its correctness."
   ]
  },
  {
   "cell_type": "code",
   "execution_count": 2889,
   "id": "67da66d9",
   "metadata": {},
   "outputs": [
    {
     "name": "stdout",
     "output_type": "stream",
     "text": [
      "\n",
      "TEST 1: sigma_lower_0(5)\n",
      "Result :   167854080 \n",
      "Expected :  167854080 \n",
      "Correct :  True\n",
      "\n",
      "TEST 2: sigma_lower_0(0)\n",
      "Result :   0 \n",
      "Expected :  0 \n",
      "Correct :  True\n",
      "\n",
      "TEST 3: sigma_lower_0(1)\n",
      "Result :   33570816 \n",
      "Expected :  33570816 \n",
      "Correct :  True\n",
      "\n",
      "TEST 4: sigma_lower_0(-1)\n",
      "Result :   536870911 \n",
      "Expected :  536870911 \n",
      "Correct :  True\n"
     ]
    }
   ],
   "source": [
    "# Test 1: Input other than 0 or 1\n",
    "print(\"\\nTEST 1: sigma_lower_0(5)\")\n",
    "test_result = sigma_lower_0(5)\n",
    "expected_result = 167854080  \n",
    "print(\"Result :  \", test_result, \"\\nExpected : \", expected_result, \"\\nCorrect : \", test_result == expected_result)\n",
    "\n",
    "# Test 2: A zero input\n",
    "print(\"\\nTEST 2: sigma_lower_0(0)\")\n",
    "test_result = sigma_lower_0(0)\n",
    "expected_result = 0  \n",
    "print(\"Result :  \", test_result, \"\\nExpected : \", expected_result, \"\\nCorrect : \", test_result == expected_result)\n",
    "\n",
    "# Test 3: An input of one\n",
    "print(\"\\nTEST 3: sigma_lower_0(1)\")\n",
    "test_result = sigma_lower_0(1)\n",
    "expected_result = 33570816 \n",
    "print(\"Result :  \", test_result, \"\\nExpected : \", expected_result, \"\\nCorrect : \", test_result == expected_result)\n",
    "\n",
    "# Test 4: A negative input\n",
    "print(\"\\nTEST 4: sigma_lower_0(-1)\")\n",
    "test_result = sigma_lower_0(-1)\n",
    "expected_result = 536870911\n",
    "print(\"Result :  \", test_result, \"\\nExpected : \", expected_result, \"\\nCorrect : \", test_result == expected_result)"
   ]
  },
  {
   "cell_type": "markdown",
   "id": "dd874018",
   "metadata": {},
   "source": [
    "### The sigma0 Function \n",
    "In the SHA-224 and SHA-256 algorithms, the `sigma0` function applies a series of bitwise operations to a single 32-bit integer. It computes the bitwise XOR of two right-rotated versions of the input value : one rotated right by 7 bits, one rotated right by 18 bits, and the value shifted right by 3 bits. This is implemented as `ROTR^7(x) ^ ROTR^18(x) ^ SHR^3(x)`.\n"
   ]
  },
  {
   "cell_type": "code",
   "execution_count": 2890,
   "id": "b2f70bee",
   "metadata": {},
   "outputs": [],
   "source": [
    "def sigma_lower_0(x):\n",
    "    \"\"\"Calculate the sigma0 value for a 32-bit integer.\"\"\"\n",
    "    # The np.uint32() constructor ensures inputs are treated as unsigned 32-bit integers. \n",
    "    # See: https://numpy.org/doc/stable/reference/arrays.scalars.html#numpy.uint32\n",
    "    # Mask with 0xFFFFFFFF to ensure only the lower 32 bits are kept to handle negative inputs correctly.\n",
    "    x = np.uint32(x & 0xFFFFFFFF)\n",
    "\n",
    "    # Compute the bitwise XOR of two right-rotated versions of the input value and the right-shifted value.\n",
    "    return (rotr(x, 7) ^ rotr(x, 18) ^ (x >> 3))"
   ]
  },
  {
   "cell_type": "markdown",
   "id": "f598b3b6",
   "metadata": {},
   "source": [
    "### Test sigma0 Function \n",
    "This section tests the `sigma0` function with various inputs to verify its correctness.\n"
   ]
  },
  {
   "cell_type": "code",
   "execution_count": 2891,
   "id": "ea07f684",
   "metadata": {},
   "outputs": [
    {
     "name": "stdout",
     "output_type": "stream",
     "text": [
      "\n",
      "TEST 1: sigma_lower_0(5)\n",
      "Result :   167854080 \n",
      "Expected :  167854080 \n",
      "Correct :  True\n",
      "\n",
      "TEST 2: sigma_lower_0(0)\n",
      "Result :   0 \n",
      "Expected :  0 \n",
      "Correct :  True\n",
      "\n",
      "TEST 3: sigma_lower_0(1)\n",
      "Result :   33570816 \n",
      "Expected :  33570816 \n",
      "Correct :  True\n",
      "\n",
      "TEST 4: sigma_lower_0(-1)\n",
      "Result :   536870911 \n",
      "Expected :  536870911 \n",
      "Correct :  True\n"
     ]
    }
   ],
   "source": [
    "# Test 1: Input other than 0 or 1\n",
    "print(\"\\nTEST 1: sigma_lower_0(5)\")\n",
    "test_result = sigma_lower_0(5)\n",
    "expected_result = 167854080  \n",
    "print(\"Result :  \", test_result, \"\\nExpected : \", expected_result, \"\\nCorrect : \", test_result == expected_result)\n",
    "\n",
    "# Test 2: A zero input\n",
    "print(\"\\nTEST 2: sigma_lower_0(0)\")\n",
    "test_result = sigma_lower_0(0)\n",
    "expected_result = 0  \n",
    "print(\"Result :  \", test_result, \"\\nExpected : \", expected_result, \"\\nCorrect : \", test_result == expected_result)\n",
    "\n",
    "# Test 3: An input of one\n",
    "print(\"\\nTEST 3: sigma_lower_0(1)\")\n",
    "test_result = sigma_lower_0(1)\n",
    "expected_result = 33570816 \n",
    "print(\"Result :  \", test_result, \"\\nExpected : \", expected_result, \"\\nCorrect : \", test_result == expected_result)\n",
    "\n",
    "# Test 4: A negative input\n",
    "print(\"\\nTEST 4: sigma_lower_0(-1)\")\n",
    "test_result = sigma_lower_0(-1)\n",
    "expected_result = 536870911\n",
    "print(\"Result :  \", test_result, \"\\nExpected : \", expected_result, \"\\nCorrect : \", test_result == expected_result)"
   ]
  },
  {
   "cell_type": "markdown",
   "id": "f93c5691",
   "metadata": {},
   "source": [
    "### The sigma1 Function \n",
    "In the SHA-224 and SHA-256 algorithms, the `sigma1` function applies a series of bitwise operations to a single 32-bit integer. It computes the bitwise XOR of two right-rotated versions of the input value : one rotated right by 7 bits, one rotated right by 18 bits, and the value shifted right by 3 bits. This is implemented as `ROTR^17(x) ^ ROTR^19(x) ^ SHR^10(x)`."
   ]
  },
  {
   "cell_type": "code",
   "execution_count": 2892,
   "id": "99d9c3a6",
   "metadata": {},
   "outputs": [],
   "source": [
    "def sigma_lower_1(x):\n",
    "    \"\"\"Calculate the sigma1 value for a 32-bit integer.\"\"\"\n",
    "    # The np.uint32() constructor ensures inputs are treated as unsigned 32-bit integers. \n",
    "    # See: https://numpy.org/doc/stable/reference/arrays.scalars.html#numpy.uint32\n",
    "    # Mask with 0xFFFFFFFF to ensure only the lower 32 bits are kept to handle negative inputs correctly.\n",
    "    x = np.uint32(x & 0xFFFFFFFF)\n",
    "\n",
    "    # Compute the bitwise XOR of two right-rotated versions of the input value and the right-shifted value.\n",
    "    return (rotr(x, 17) ^ rotr(x, 19) ^ (x >> 10))"
   ]
  },
  {
   "cell_type": "markdown",
   "id": "849f8f00",
   "metadata": {},
   "source": [
    "### Test sigma1 Function \n",
    "This section tests the `sigma1` function with various inputs to verify its correctness."
   ]
  },
  {
   "cell_type": "code",
   "execution_count": 2893,
   "id": "a73067b5",
   "metadata": {},
   "outputs": [
    {
     "name": "stdout",
     "output_type": "stream",
     "text": [
      "\n",
      "TEST 1: sigma_lower_1(5)\n",
      "Result :   0x22000 \n",
      "Expected :  139264 \n",
      "Correct :  True\n",
      "\n",
      "TEST 2: sigma_lower_1(0)\n",
      "Result :   0x0 \n",
      "Expected :  0 \n",
      "Correct :  True\n",
      "\n",
      "TEST 3: sigma_lower_1(1)\n",
      "Result :   0xa000 \n",
      "Expected :  40960 \n",
      "Correct :  True\n",
      "\n",
      "TEST 4: sigma_lower_1(-1)\n",
      "Result :   0x3fffff \n",
      "Expected :  4194303 \n",
      "Correct :  True\n"
     ]
    }
   ],
   "source": [
    "# Test 1: Input other than 0 or 1\n",
    "print(\"\\nTEST 1: sigma_lower_1(5)\")\n",
    "test_result = sigma_lower_1(5)\n",
    "expected_result = 139264   \n",
    "print(\"Result :  \", hex(int(test_result)), \"\\nExpected : \", expected_result, \"\\nCorrect : \", int(test_result) == expected_result)\n",
    "\n",
    "# Test 2: A zero input\n",
    "print(\"\\nTEST 2: sigma_lower_1(0)\")\n",
    "test_result = sigma_lower_1(0)\n",
    "expected_result = 0        \n",
    "print(\"Result :  \", hex(int(test_result)), \"\\nExpected : \", expected_result, \"\\nCorrect : \", int(test_result) == expected_result)\n",
    "\n",
    "# Test 3: An input of one\n",
    "print(\"\\nTEST 3: sigma_lower_1(1)\")\n",
    "test_result = sigma_lower_1(1)\n",
    "expected_result = 40960   \n",
    "print(\"Result :  \", hex(int(test_result)), \"\\nExpected : \", expected_result, \"\\nCorrect : \", int(test_result) == expected_result)\n",
    "\n",
    "# Test 4: A negative input\n",
    "print(\"\\nTEST 4: sigma_lower_1(-1)\")\n",
    "test_result = sigma_lower_1(-1)\n",
    "expected_result = 4194303   \n",
    "print(\"Result :  \", hex(int(test_result)), \"\\nExpected : \", expected_result, \"\\nCorrect : \", int(test_result) == expected_result)\n"
   ]
  },
  {
   "cell_type": "markdown",
   "id": "e2620a8c",
   "metadata": {},
   "source": [
    "## Problem 2: Fractional Parts of Cube Roots \n"
   ]
  },
  {
   "cell_type": "markdown",
   "id": "12476373",
   "metadata": {},
   "source": [
    "### The primes(n) function \n",
    "The `sympy.prime` function ([see official documentation](https://docs.sympy.org/latest/modules/ntheory.html#sympy.ntheory.generate.prime)) returns the nth prime number, and `sympy.primerange` ([see official documentation](https://docs.sympy.org/latest/modules/ntheory.html#sympy.ntheory.generate.primerange)) generates all prime numbers in a given range. These functions are used together in this project to efficiently return a list of the first *n* prime numbers.\n",
    "This approach ensures both clarity and extensibility in the code."
   ]
  },
  {
   "cell_type": "code",
   "execution_count": 2894,
   "id": "9c3b5840",
   "metadata": {},
   "outputs": [],
   "source": [
    "def primes(n):\n",
    "    \"\"\" Return a list of the first n prime numbers.\"\"\"\n",
    "    # Use sympy.prime to find the nth prime\n",
    "    # See: https://docs.sympy.org/latest/modules/ntheory.html#sympy.ntheory.generate.prime\n",
    "    # Use sympy.primerange to generate all primes up to and including the nth prime\n",
    "    # See: https://docs.sympy.org/latest/modules/ntheory.html#sympy.ntheory.generate.primerange\n",
    "    return list(sp.primerange(sp.prime(n) + 1))"
   ]
  },
  {
   "cell_type": "markdown",
   "id": "be3e49ae",
   "metadata": {},
   "source": [
    "### Calculate Cube Roots of the First 64 Primes\n",
    "Generate the first 64 prime numbers using the `primes(n)` function. Next, calculate the cube root of each prime using NumPy's `cbrt` function ([see official documentation](https://numpy.org/devdocs/reference/generated/numpy.cbrt.html)), which efficiently applies the cube root operation to every element in the input array. This vectorized approach ensures accuracy and performance."
   ]
  },
  {
   "cell_type": "code",
   "execution_count": 2895,
   "id": "c1de2ea8",
   "metadata": {},
   "outputs": [
    {
     "name": "stdout",
     "output_type": "stream",
     "text": [
      "[1.25992105 1.44224957 1.70997595 1.91293118 2.22398009 2.35133469\n",
      " 2.57128159 2.66840165 2.84386698 3.07231683 3.14138065 3.33222185\n",
      " 3.44821724 3.50339806 3.60882608 3.75628575 3.89299642 3.93649718\n",
      " 4.0615481  4.14081775 4.1793392  4.29084043 4.36207067 4.4647451\n",
      " 4.59470089 4.65700951 4.68754815 4.7474594  4.77685618 4.83458813\n",
      " 5.0265257  5.07875308 5.15513674 5.18010147 5.30145919 5.32507402\n",
      " 5.39469071 5.46255557 5.50687845 5.57205466 5.63574079 5.65665283\n",
      " 5.75896522 5.77899657 5.81864787 5.83827246 5.95334181 6.06412699\n",
      " 6.1001702  6.11803317 6.15344949 6.20582179 6.22308425 6.30799355\n",
      " 6.35786118 6.40695858 6.45531481 6.47127363 6.51868392 6.54991162\n",
      " 6.56541443 6.6418522  6.74599671 6.77516895]\n"
     ]
    }
   ],
   "source": [
    "# Get the first 64 prime numbers.\n",
    "primes_list = primes(64)  \n",
    "# A list to hold the cube roots of the primes.\n",
    "cube_roots = []\n",
    "# Calculate the cube root of each prime number and store it in the list.\n",
    "# np.cbrt computes the cube root of each element in the input array.\n",
    "# See: https://numpy.org/devdocs/reference/generated/numpy.cbrt.html\n",
    "cube_roots = np.cbrt(primes_list)\n",
    "# Print the cube roots of the first 64 prime numbers.\n",
    "print(cube_roots)"
   ]
  },
  {
   "cell_type": "markdown",
   "id": "0d070252",
   "metadata": {},
   "source": [
    "### Extract fractional parts of the cube roots \n",
    "The NumPy `modf()` ([see official documentation](https://numpy.org/doc/stable/reference/generated/numpy.modf.html)) function returns the fractional and integral parts of an input array. This function is used for its speed and efficiency in separating the components."
   ]
  },
  {
   "cell_type": "code",
   "execution_count": 2896,
   "id": "ae0ce3dd",
   "metadata": {},
   "outputs": [
    {
     "name": "stdout",
     "output_type": "stream",
     "text": [
      "[0.25992105 0.44224957 0.70997595 0.91293118 0.22398009 0.35133469\n",
      " 0.57128159 0.66840165 0.84386698 0.07231683 0.14138065 0.33222185\n",
      " 0.44821724 0.50339806 0.60882608 0.75628575 0.89299642 0.93649718\n",
      " 0.0615481  0.14081775 0.1793392  0.29084043 0.36207067 0.4647451\n",
      " 0.59470089 0.65700951 0.68754815 0.7474594  0.77685618 0.83458813\n",
      " 0.0265257  0.07875308 0.15513674 0.18010147 0.30145919 0.32507402\n",
      " 0.39469071 0.46255557 0.50687845 0.57205466 0.63574079 0.65665283\n",
      " 0.75896522 0.77899657 0.81864787 0.83827246 0.95334181 0.06412699\n",
      " 0.1001702  0.11803317 0.15344949 0.20582179 0.22308425 0.30799355\n",
      " 0.35786118 0.40695858 0.45531481 0.47127363 0.51868392 0.54991162\n",
      " 0.56541443 0.6418522  0.74599671 0.77516895]\n"
     ]
    }
   ],
   "source": [
    "# np.modf() function returns two tuples - the fractional and integral parts of the input array.\n",
    "# See: https://numpy.org/doc/stable/reference/generated/numpy.modf.html\n",
    "fractional, integer = np.modf(cube_roots)\n",
    "# Print only the fractional parts of the cube roots.\n",
    "print(fractional)"
   ]
  },
  {
   "cell_type": "markdown",
   "id": "266fef6c",
   "metadata": {},
   "source": [
    "### Extract first thirty-two bits of the fractional part\n",
    "Shift the fractional part of the cube roots 32 bits in front of decimal point to bring the first 32 binary digits into the integer part, then convert it to an integer.\n"
   ]
  },
  {
   "cell_type": "code",
   "execution_count": 2897,
   "id": "56b7b663",
   "metadata": {},
   "outputs": [
    {
     "name": "stdout",
     "output_type": "stream",
     "text": [
      "[1116352408, 1899447441, 3049323471, 3921009573, 961987163, 1508970993, 2453635748, 2870763221, 3624381080, 310598401, 607225278, 1426881987, 1925078388, 2162078206, 2614888103, 3248222580, 3835390401, 4022224774, 264347078, 604807628, 770255983, 1249150122, 1555081692, 1996064986, 2554220882, 2821834349, 2952996808, 3210313671, 3336571891, 3584528711, 113926993, 338241895, 666307205, 773529912, 1294757372, 1396182291, 1695183700, 1986661051, 2177026350, 2456956037, 2730485921, 2820302411, 3259730800, 3345764771, 3516065817, 3600352804, 4094571909, 275423344, 430227734, 506948616, 659060556, 883997877, 958139571, 1322822218, 1537002063, 1747873779, 1955562222, 2024104815, 2227730452, 2361852424, 2428436474, 2756734187, 3204031479, 3329325298]\n"
     ]
    }
   ],
   "source": [
    "# A list to hold the first 32 bits of the fractional parts of the cube roots.\n",
    "bits = []\n",
    "# Loop through each fractional part of the cube roots.\n",
    "for number in fractional:\n",
    "    # Shift the fractional part 32 bits to the left to bring the digits into the integer part.\n",
    "    shifted = number * (2 ** 32)\n",
    "    # Convert the result to an integer and append it to the bits list.\n",
    "    bits.append(int(shifted))\n",
    "\n",
    "# Print the integer representation of the first 32 bits of the fractional parts of the cube roots.\n",
    "print(bits)\n"
   ]
  },
  {
   "cell_type": "markdown",
   "id": "eb93724e",
   "metadata": {},
   "source": [
    "### Display result in hexadecimal\n",
    "Convert the fractional bits to be displayed in hexadecimal.\n"
   ]
  },
  {
   "cell_type": "code",
   "execution_count": 2898,
   "id": "968a4b5b",
   "metadata": {},
   "outputs": [
    {
     "name": "stdout",
     "output_type": "stream",
     "text": [
      "['428a2f98', '71374491', 'b5c0fbcf', 'e9b5dba5', '3956c25b', '59f111f1', '923f82a4', 'ab1c5ed5', 'd807aa98', '12835b01', '243185be', '550c7dc3', '72be5d74', '80deb1fe', '9bdc06a7', 'c19bf174', 'e49b69c1', 'efbe4786', '0fc19dc6', '240ca1cc', '2de92c6f', '4a7484aa', '5cb0a9dc', '76f988da', '983e5152', 'a831c66d', 'b00327c8', 'bf597fc7', 'c6e00bf3', 'd5a79147', '06ca6351', '14292967', '27b70a85', '2e1b2138', '4d2c6dfc', '53380d13', '650a7354', '766a0abb', '81c2c92e', '92722c85', 'a2bfe8a1', 'a81a664b', 'c24b8b70', 'c76c51a3', 'd192e819', 'd6990624', 'f40e3585', '106aa070', '19a4c116', '1e376c08', '2748774c', '34b0bcb5', '391c0cb3', '4ed8aa4a', '5b9cca4f', '682e6ff3', '748f82ee', '78a5636f', '84c87814', '8cc70208', '90befffa', 'a4506ceb', 'bef9a3f7', 'c67178f2']\n"
     ]
    }
   ],
   "source": [
    "# A list to hold the hexadecimal representation of the bits.\n",
    "hex_bits = []\n",
    "for bit in bits:\n",
    "    # Format each integer as an 8 character hexadecimal string.\n",
    "    hex_bits.append(f\"{bit:08x}\")\n",
    "\n",
    "# Print the hexadecimal representation of the bits.\n",
    "print(hex_bits)\n"
   ]
  },
  {
   "cell_type": "markdown",
   "id": "4d5d946f",
   "metadata": {},
   "source": [
    "### Test results against Secure Hash Standad \n",
    "This section compares the computed hexadecimal bits against the hex list defined in the Secure Hash Standard (FIPS 180-4)."
   ]
  },
  {
   "cell_type": "code",
   "execution_count": 2899,
   "id": "483cf00f",
   "metadata": {},
   "outputs": [
    {
     "name": "stdout",
     "output_type": "stream",
     "text": [
      "The computed hexadecimal values match the expected SHA-256 constants.\n"
     ]
    }
   ],
   "source": [
    "# The expected SHA-256 constants (from FIPS 180-4 4.2.2) in hexadecimal format for comparison.\n",
    "# See: https://nvlpubs.nist.gov/nistpubs/FIPS/NIST.FIPS.180-4.pdf\n",
    "shs_hex_list = [\n",
    "    \"428a2f98\", \"71374491\", \"b5c0fbcf\", \"e9b5dba5\", \"3956c25b\", \"59f111f1\", \"923f82a4\", \"ab1c5ed5\",\n",
    "    \"d807aa98\", \"12835b01\", \"243185be\", \"550c7dc3\", \"72be5d74\", \"80deb1fe\", \"9bdc06a7\", \"c19bf174\",\n",
    "    \"e49b69c1\", \"efbe4786\", \"0fc19dc6\", \"240ca1cc\", \"2de92c6f\", \"4a7484aa\", \"5cb0a9dc\", \"76f988da\",\n",
    "    \"983e5152\", \"a831c66d\", \"b00327c8\", \"bf597fc7\", \"c6e00bf3\", \"d5a79147\", \"06ca6351\", \"14292967\",\n",
    "    \"27b70a85\", \"2e1b2138\", \"4d2c6dfc\", \"53380d13\", \"650a7354\", \"766a0abb\", \"81c2c92e\", \"92722c85\",\n",
    "    \"a2bfe8a1\", \"a81a664b\", \"c24b8b70\", \"c76c51a3\", \"d192e819\", \"d6990624\", \"f40e3585\", \"106aa070\",\n",
    "    \"19a4c116\", \"1e376c08\", \"2748774c\", \"34b0bcb5\", \"391c0cb3\", \"4ed8aa4a\", \"5b9cca4f\", \"682e6ff3\",\n",
    "    \"748f82ee\", \"78a5636f\", \"84c87814\", \"8cc70208\", \"90befffa\", \"a4506ceb\", \"bef9a3f7\", \"c67178f2\"\n",
    "]\n",
    "\n",
    "# Compare the computed hexadecimal values with the expected SHA-256 constants.\n",
    "if hex_bits == shs_hex_list:\n",
    "    print(\"The computed hexadecimal values match the expected SHA-256 constants.\")\n",
    "else:\n",
    "    print(\"The computed hexadecimal values do not match the expected SHA-256 constants.\")"
   ]
  },
  {
   "cell_type": "markdown",
   "id": "038e30a9",
   "metadata": {},
   "source": [
    "## Problem 3: Padding\n"
   ]
  },
  {
   "cell_type": "markdown",
   "id": "b8883974",
   "metadata": {},
   "source": [
    "The `block_parse` function is a generator that follows the Secure Hash Standard's rules for padding and block parsing. It accepts a bytes object as input and yields each 512-bit (64-byte) block of the message after applying the required padding. Padding is performed by appending a '1' bit, followed by zero bytes, and then the original message length represented as an 8-byte big-endian integer. Each block yielded by the function is ready for processing by SHA cryptographic routines. "
   ]
  },
  {
   "cell_type": "code",
   "execution_count": 2900,
   "id": "e38f4f5c",
   "metadata": {},
   "outputs": [],
   "source": [
    "def block_parse(msg):\n",
    "    \"\"\"Pad a message according to SHA-256 specifications.\"\"\"\n",
    "    # Get the message length in bits \n",
    "    message_len = len(msg) * 8  \n",
    "\n",
    "    # Append a byte with a single '1' bit followed by seven '0' bits\n",
    "    padded_msg = msg + b'\\x80'\n",
    "    \n",
    "    # Calculate the number of zero bytes to pad so that the length is 56 mod 64 bytes\n",
    "    k = (56 - len(padded_msg) % 64) % 64\n",
    "\n",
    "    # Append k zero bytes\n",
    "    padded_msg +=  b'\\x00' * k \n",
    "\n",
    "    # Append the original message length as a 64-bit block \n",
    "    padded_msg += message_len.to_bytes(8, 'big')\n",
    "    \n",
    "    # Yield 64-byte blocks\n",
    "    for i in range(0, len(padded_msg), 64):\n",
    "        yield padded_msg[i:i+64]\n"
   ]
  },
  {
   "cell_type": "markdown",
   "id": "4ba324ba",
   "metadata": {},
   "source": [
    "## Problem 4: Hashes\n"
   ]
  },
  {
   "cell_type": "code",
   "execution_count": 2901,
   "id": "1567fdae",
   "metadata": {},
   "outputs": [],
   "source": [
    "# Write a function hash(current, block) that calculates the next hash value given the current hash value and the next message block according to section 6.2.2 SHA-256 Hash Computation on page 22 of the Secure Hash Standard."
   ]
  },
  {
   "cell_type": "markdown",
   "id": "a29081a2",
   "metadata": {},
   "source": [
    "## Problem 5: Passwords\n"
   ]
  },
  {
   "cell_type": "code",
   "execution_count": 2902,
   "id": "016d9946",
   "metadata": {},
   "outputs": [],
   "source": [
    "# The following are the SHA-256 hashes of three common passwords that have been hashed using one pass of the SHA-256 algorithm. As strings, they were encoded using UTF-8. Determine the passwords and explain how you found them. "
   ]
  },
  {
   "cell_type": "markdown",
   "id": "32469bb5",
   "metadata": {},
   "source": [
    "## End"
   ]
  }
 ],
 "metadata": {
  "kernelspec": {
   "display_name": "base",
   "language": "python",
   "name": "python3"
  },
  "language_info": {
   "codemirror_mode": {
    "name": "ipython",
    "version": 3
   },
   "file_extension": ".py",
   "mimetype": "text/x-python",
   "name": "python",
   "nbconvert_exporter": "python",
   "pygments_lexer": "ipython3",
   "version": "3.12.7"
  }
 },
 "nbformat": 4,
 "nbformat_minor": 5
}
