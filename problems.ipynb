{
 "cells": [
  {
   "cell_type": "markdown",
   "id": "7f959f56",
   "metadata": {},
   "source": [
    "# Computational Theory "
   ]
  },
  {
   "cell_type": "code",
   "execution_count": 2,
   "id": "c7fce335",
   "metadata": {},
   "outputs": [],
   "source": [
    "# for numerical data and methods \n",
    "import numpy as np "
   ]
  },
  {
   "cell_type": "markdown",
   "id": "bd857351",
   "metadata": {},
   "source": [
    "## Problem 1: Binary Words and Operations\n"
   ]
  },
  {
   "cell_type": "markdown",
   "id": "e2620a8c",
   "metadata": {},
   "source": [
    "## Problem 2: Fractional Parts of Cube Roots \n"
   ]
  },
  {
   "cell_type": "markdown",
   "id": "038e30a9",
   "metadata": {},
   "source": [
    "## Problem 3: Padding\n"
   ]
  },
  {
   "cell_type": "markdown",
   "id": "4ba324ba",
   "metadata": {},
   "source": [
    "## Problem 4: Hashes\n"
   ]
  },
  {
   "cell_type": "markdown",
   "id": "a29081a2",
   "metadata": {},
   "source": [
    "## Problem 5: Passwords\n"
   ]
  },
  {
   "cell_type": "markdown",
   "id": "32469bb5",
   "metadata": {},
   "source": [
    "## End"
   ]
  }
 ],
 "metadata": {
  "kernelspec": {
   "display_name": "base",
   "language": "python",
   "name": "python3"
  },
  "language_info": {
   "codemirror_mode": {
    "name": "ipython",
    "version": 3
   },
   "file_extension": ".py",
   "mimetype": "text/x-python",
   "name": "python",
   "nbconvert_exporter": "python",
   "pygments_lexer": "ipython3",
   "version": "3.12.7"
  }
 },
 "nbformat": 4,
 "nbformat_minor": 5
}
