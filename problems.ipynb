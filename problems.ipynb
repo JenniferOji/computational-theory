{
 "cells": [
  {
   "cell_type": "markdown",
   "id": "7f959f56",
   "metadata": {},
   "source": [
    "# Computational Theory "
   ]
  },
  {
   "cell_type": "code",
   "execution_count": 592,
   "id": "c7fce335",
   "metadata": {},
   "outputs": [],
   "source": [
    "# for numerical data and methods \n",
    "import numpy as np "
   ]
  },
  {
   "cell_type": "markdown",
   "id": "bd857351",
   "metadata": {},
   "source": [
    "## Problem 1: Binary Words and Operations\n"
   ]
  },
  {
   "cell_type": "markdown",
   "id": "8334d2fe",
   "metadata": {},
   "source": [
    "The `numpy.int32()` constructor ([see official documentation] https://numpy.org/doc/stable/reference/arrays.scalars.html#numpy.int32) ensures that values are stored and treated as 32-bit signed integers in NumPy."
   ]
  },
  {
   "cell_type": "code",
   "execution_count": 593,
   "id": "2100ead9",
   "metadata": {},
   "outputs": [],
   "source": [
    "def parity(x,y,z):\n",
    "    \"\"\"Calculate the parity of three 32-bit integers\"\"\"\n",
    "    # Ensure inputs are treated as 32-bit integers as per SHA-1 specification.\n",
    "    # See: https://numpy.org/doc/stable/reference/arrays.scalars.html#numpy.int32\n",
    "    x = np.int32(x)\n",
    "    y = np.int32(y)\n",
    "    z = np.int32(z)\n",
    "    \n",
    "    # Calculate the bitwise XOR operation on the three 32-bit values.\n",
    "    parity_output = np.int32(x ^ y ^ z)\n",
    "    # Return the result.\n",
    "    return parity_output"
   ]
  },
  {
   "cell_type": "markdown",
   "id": "e88b139d",
   "metadata": {},
   "source": [
    "### Parity Function\n",
    "The `parity` function calculates the bitwise XOR of three 32-bit integers, as defined in the SHA-1 algorithm. For each bit position, it returns a result of 1 when an odd number of the input values is set to 1, and 0 otherwise. This is implemented as x ^ y ^ z."
   ]
  },
  {
   "cell_type": "code",
   "execution_count": 594,
   "id": "f23ff5db",
   "metadata": {},
   "outputs": [
    {
     "name": "stdout",
     "output_type": "stream",
     "text": [
      "TEST 1: parity(0,0,0)\n",
      "Result :   0 \n",
      "Expected :  0 \n",
      "Correct :  True\n",
      "\n",
      "TEST 2: parity(1,0,0)\n",
      "Result :   1 \n",
      "Expected :  1 \n",
      "Correct :  True\n",
      "\n",
      "TEST 3: parity(1,1,0)\n",
      "Result :   0 \n",
      "Expected :  0 \n",
      "Correct :  True\n",
      "\n",
      "TEST 4: parity(-1,-2,-3)\n",
      "Result :   -4 \n",
      "Expected :  -4 \n",
      "Correct :  True\n",
      "\n",
      "TEST 5: parity(2147483647, 2147483646, 2147483645)\n",
      "Result :   2147483644 \n",
      "Expected :  2147483644 \n",
      "Correct :  True\n",
      "\n",
      "TEST 6: parity(2,-4,5)\n",
      "Result :   -5 \n",
      "Expected :  -5 \n",
      "Correct :  True\n",
      "\n",
      "TEST 7: parity(1,1,1)\n",
      "Result :   1 \n",
      "Expected :  1 \n",
      "Correct :  True\n",
      "\n",
      "TEST 8: parity(-1,-1,-1)\n",
      "Result :   -1 \n",
      "Expected :  -1 \n",
      "Correct :  True\n"
     ]
    }
   ],
   "source": [
    "# Test parity function \n",
    "# Test 1: All zeros\n",
    "print(\"TEST 1: parity(0,0,0)\")\n",
    "test_result = parity(0,0,0)\n",
    "expected_result = 0\n",
    "print(\"Result :  \", test_result, \"\\nExpected : \", expected_result, \"\\nCorrect : \", test_result == expected_result)\n",
    "\n",
    "# Test 2: One non-zero input\n",
    "print(\"\\nTEST 2: parity(1,0,0)\")\n",
    "test_result = parity(1,0,0)\n",
    "expected_result = 1\n",
    "print(\"Result :  \", test_result, \"\\nExpected : \", expected_result, \"\\nCorrect : \", test_result == expected_result)\n",
    "\n",
    "# Test 3: Two non-zero inputs\n",
    "print(\"\\nTEST 3: parity(1,1,0)\")\n",
    "test_result = parity(1,1,0)\n",
    "expected_result = 0\n",
    "print(\"Result :  \", test_result, \"\\nExpected : \", expected_result, \"\\nCorrect : \", test_result == expected_result)\n",
    "\n",
    "# Test 4: Negative numbers\n",
    "print(\"\\nTEST 4: parity(-1,-2,-3)\")\n",
    "test_result = parity(-1,-2,-3)\n",
    "expected_result = -4\n",
    "print(\"Result :  \", test_result, \"\\nExpected : \", expected_result, \"\\nCorrect : \", test_result == expected_result)\n",
    "\n",
    "# Test 5: Large numbers\n",
    "print(\"\\nTEST 5: parity(2147483647, 2147483646, 2147483645)\")\n",
    "test_result = parity(2147483647, 2147483646, 2147483645)\n",
    "expected_result = 2147483644\n",
    "print(\"Result :  \", test_result, \"\\nExpected : \", expected_result, \"\\nCorrect : \", test_result == expected_result)\n",
    "\n",
    "# Test 6: Mixed inputs\n",
    "print(\"\\nTEST 6: parity(2,-4,5)\")\n",
    "test_result = parity(2,-4,5)\n",
    "expected_result = -5\n",
    "print(\"Result :  \", test_result, \"\\nExpected : \", expected_result, \"\\nCorrect : \", test_result == expected_result)\n",
    "\n",
    "# Test 7: All ones\n",
    "print(\"\\nTEST 7: parity(1,1,1)\")\n",
    "test_result = parity(1,1,1)\n",
    "expected_result = 1\n",
    "print(\"Result :  \", test_result, \"\\nExpected : \", expected_result, \"\\nCorrect : \", test_result == expected_result)\n",
    "\n",
    "# Test 8: Three negative inputs\n",
    "print(\"\\nTEST 8: parity(-1,-1,-1)\")\n",
    "test_result = parity(-1,-1,-1)\n",
    "expected_result = -1\n",
    "print(\"Result :  \", test_result, \"\\nExpected : \", expected_result, \"\\nCorrect : \", test_result == expected_result)"
   ]
  },
  {
   "cell_type": "code",
   "execution_count": 595,
   "id": "f93d3da0",
   "metadata": {},
   "outputs": [],
   "source": [
    "def ch(x, y, z):\n",
    "    \"\"\"Calculate the choose function on three 32-bit integers\"\"\"\n",
    "    # Ensure inputs are treated as 32-bit integers as per SHA-1 specification.\n",
    "    # See: https://numpy.org/doc/stable/reference/arrays.scalars.html#numpy.int32\n",
    "    x = np.int32(x)\n",
    "    y = np.int32(y)\n",
    "    z = np.int32(z)\n",
    "    \n",
    "    # Bitwise AND of x and y.\n",
    "    bitwise_and = (x & y)\n",
    "    # Bitwise complement of x, then AND with z.\n",
    "    bitwise_complement_and = (~x) & z\n",
    "    # Calculate the bitwise XOR operation of the two results and cast to 32-bit integer.\n",
    "    ch_output = np.int32(bitwise_and ^ bitwise_complement_and)\n",
    "    # Return the result.\n",
    "    return ch_output "
   ]
  },
  {
   "cell_type": "markdown",
   "id": "40a331c6",
   "metadata": {},
   "source": [
    "### Choose Function\n",
    "The `choose` function, used in the SHA-224 and SHA-256 algorithms, calculates a conditional selection among three 32-bit integers. For each bit position, it returns the bit from y if the bit in x is 1, or the bit from z if the bit in x is 0. This is implemented as (x & y) ^(~x & z)."
   ]
  },
  {
   "cell_type": "code",
   "execution_count": 596,
   "id": "ffa5215c",
   "metadata": {},
   "outputs": [
    {
     "name": "stdout",
     "output_type": "stream",
     "text": [
      "TEST 1: ch(0, 0, 0)\n",
      "Result :   0 \n",
      "Expected :  0 \n",
      "Correct :  True\n",
      "\n",
      "TEST 2: ch(1, 1, 1)\n",
      "Result :   1 \n",
      "Expected :  1 \n",
      "Correct :  True\n",
      "\n",
      "TEST 3: ch(0, 0, 1)\n",
      "Result :   1 \n",
      "Expected :  1 \n",
      "Correct :  True\n",
      "\n",
      "TEST 4: ch(1, 1, 0)\n",
      "Result :   1 \n",
      "Expected :  1 \n",
      "Correct :  True\n",
      "\n",
      "TEST 5: ch(-1, -1, -1)\n",
      "Result :   -1 \n",
      "Expected :  -1 \n",
      "Correct :  True\n",
      "\n",
      "TEST 6: ch(-1, 0, 1)\n",
      "Result :   0 \n",
      "Expected :  0 \n",
      "Correct :  True\n",
      "\n",
      "TEST 7: ch(2147483647, -2147483648, 0)\n",
      "Result :   0 \n",
      "Expected :  0 \n",
      "Correct :  True\n",
      "\n",
      "TEST 8: ch(2147483647, 2147483647, -2147483648)\n",
      "Result :   -1 \n",
      "Expected :  -1 \n",
      "Correct :  True\n"
     ]
    }
   ],
   "source": [
    "# Test ch function \n",
    "\n",
    "# Test 1: All zeros\n",
    "print(\"TEST 1: ch(0, 0, 0)\")\n",
    "test_result = ch(0, 0, 0)\n",
    "expected_result = 0\n",
    "print(\"Result :  \", test_result, \"\\nExpected : \", expected_result, \"\\nCorrect : \", test_result == expected_result)\n",
    "\n",
    "# Test 2: All ones\n",
    "print(\"\\nTEST 2: ch(1, 1, 1)\")\n",
    "test_result = ch(1, 1, 1)\n",
    "expected_result = 1\n",
    "print(\"Result :  \", test_result, \"\\nExpected : \", expected_result, \"\\nCorrect : \", test_result == expected_result)\n",
    "\n",
    "# Test 3: Only z is non-zero\n",
    "print(\"\\nTEST 3: ch(0, 0, 1)\")\n",
    "test_result = ch(0, 0, 1)\n",
    "expected_result = 1\n",
    "print(\"Result :  \", test_result, \"\\nExpected : \", expected_result, \"\\nCorrect : \", test_result == expected_result)\n",
    "\n",
    "# Test 4: Only z is zero\n",
    "print(\"\\nTEST 4: ch(1, 1, 0)\")\n",
    "test_result = ch(1, 1, 0)\n",
    "expected_result = 1\n",
    "print(\"Result :  \", test_result, \"\\nExpected : \", expected_result, \"\\nCorrect : \", test_result == expected_result)\n",
    "\n",
    "# Test 5: All negative ones\n",
    "print(\"\\nTEST 5: ch(-1, -1, -1)\")\n",
    "test_result = ch(-1, -1, -1)\n",
    "expected_result = -1\n",
    "print(\"Result :  \", test_result, \"\\nExpected : \", expected_result, \"\\nCorrect : \", test_result == expected_result)\n",
    "\n",
    "# Test 6: Negative and positive numbers \n",
    "print(\"\\nTEST 6: ch(-1, 0, 1)\")\n",
    "test_result = ch(-1, 0, 1)\n",
    "expected_result = 0\n",
    "print(\"Result :  \", test_result, \"\\nExpected : \", expected_result, \"\\nCorrect : \", test_result == expected_result)\n",
    "\n",
    "# Test 7: Large positive and negative\n",
    "print(\"\\nTEST 7: ch(2147483647, -2147483648, 0)\")\n",
    "test_result = ch(2147483647, -2147483648, 0)\n",
    "expected_result = 0\n",
    "print(\"Result :  \", test_result, \"\\nExpected : \", expected_result, \"\\nCorrect : \", test_result == expected_result)\n",
    "\n",
    "# Test 8: Maximum and minimum values\n",
    "print(\"\\nTEST 8: ch(2147483647, 2147483647, -2147483648)\")\n",
    "test_result = ch(2147483647, 2147483647, -2147483648)\n",
    "expected_result = -1\n",
    "print(\"Result :  \", test_result, \"\\nExpected : \", expected_result, \"\\nCorrect : \", test_result == expected_result)"
   ]
  },
  {
   "cell_type": "markdown",
   "id": "e2620a8c",
   "metadata": {},
   "source": [
    "## Problem 2: Fractional Parts of Cube Roots \n"
   ]
  },
  {
   "cell_type": "code",
   "execution_count": 597,
   "id": "fa6d20e1",
   "metadata": {},
   "outputs": [],
   "source": [
    "# Write a function called primes(n) that generates the first n prime numbers.\n",
    "\n",
    "# Use the function to calculate the cube root of the first 64 primes.\n",
    "\n",
    "# For each cube root, extract the first thirty-two bits of the fractional part.\n",
    "\n",
    "# Display the result in hexadecimal.\n",
    "\n",
    "# Test the results against what is in the Secure Hash Standard."
   ]
  },
  {
   "cell_type": "markdown",
   "id": "038e30a9",
   "metadata": {},
   "source": [
    "## Problem 3: Padding\n"
   ]
  },
  {
   "cell_type": "code",
   "execution_count": 598,
   "id": "4dd8118d",
   "metadata": {},
   "outputs": [],
   "source": [
    "# Write a generator function block_parse(msg) that processes messages according to section 5.1.1 and 5.2.1 of the Secure Hash Standard. "
   ]
  },
  {
   "cell_type": "markdown",
   "id": "4ba324ba",
   "metadata": {},
   "source": [
    "## Problem 4: Hashes\n"
   ]
  },
  {
   "cell_type": "code",
   "execution_count": 599,
   "id": "1567fdae",
   "metadata": {},
   "outputs": [],
   "source": [
    "# Write a function hash(current, block) that calculates the next hash value given the current hash value and the next message block according to section 6.2.2 SHA-256 Hash Computation on page 22 of the Secure Hash Standard."
   ]
  },
  {
   "cell_type": "markdown",
   "id": "a29081a2",
   "metadata": {},
   "source": [
    "## Problem 5: Passwords\n"
   ]
  },
  {
   "cell_type": "code",
   "execution_count": 600,
   "id": "016d9946",
   "metadata": {},
   "outputs": [],
   "source": [
    "# The following are the SHA-256 hashes of three common passwords that have been hashed using one pass of the SHA-256 algorithm. As strings, they were encoded using UTF-8. Determine the passwords and explain how you found them. "
   ]
  },
  {
   "cell_type": "markdown",
   "id": "32469bb5",
   "metadata": {},
   "source": [
    "## End"
   ]
  }
 ],
 "metadata": {
  "kernelspec": {
   "display_name": "base",
   "language": "python",
   "name": "python3"
  },
  "language_info": {
   "codemirror_mode": {
    "name": "ipython",
    "version": 3
   },
   "file_extension": ".py",
   "mimetype": "text/x-python",
   "name": "python",
   "nbconvert_exporter": "python",
   "pygments_lexer": "ipython3",
   "version": "3.12.7"
  }
 },
 "nbformat": 4,
 "nbformat_minor": 5
}
