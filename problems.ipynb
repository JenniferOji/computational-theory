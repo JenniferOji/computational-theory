{
 "cells": [
  {
   "cell_type": "markdown",
   "id": "7f959f56",
   "metadata": {},
   "source": [
    "# Computational Theory "
   ]
  },
  {
   "cell_type": "code",
   "execution_count": 7,
   "id": "c7fce335",
   "metadata": {},
   "outputs": [],
   "source": [
    "# for numerical data and methods \n",
    "import numpy as np "
   ]
  },
  {
   "cell_type": "markdown",
   "id": "bd857351",
   "metadata": {},
   "source": [
    "## Problem 1: Binary Words and Operations\n"
   ]
  },
  {
   "cell_type": "code",
   "execution_count": 8,
   "id": "2100ead9",
   "metadata": {},
   "outputs": [],
   "source": [
    "# Implement the following functions in Python. Use numpy to ensure that all variables and values are treated as 32-bit integers. These functions are defined in the Secure Hash Standard"
   ]
  },
  {
   "cell_type": "markdown",
   "id": "e2620a8c",
   "metadata": {},
   "source": [
    "## Problem 2: Fractional Parts of Cube Roots \n"
   ]
  },
  {
   "cell_type": "code",
   "execution_count": 9,
   "id": "6890cff8",
   "metadata": {},
   "outputs": [],
   "source": [
    "# Write a function called primes(n) that generates the first n prime numbers.\n",
    "\n",
    "# Use the function to calculate the cube root of the first 64 primes.\n",
    "\n",
    "# For each cube root, extract the first thirty-two bits of the fractional part.\n",
    "\n",
    "# Display the result in hexadecimal.\n",
    "\n",
    "# Test the results against what is in the Secure Hash Standard."
   ]
  },
  {
   "cell_type": "markdown",
   "id": "038e30a9",
   "metadata": {},
   "source": [
    "## Problem 3: Padding\n"
   ]
  },
  {
   "cell_type": "code",
   "execution_count": 10,
   "id": "4dd8118d",
   "metadata": {},
   "outputs": [],
   "source": [
    "# Write a generator function block_parse(msg) that processes messages according to section 5.1.1 and 5.2.1 of the Secure Hash Standard. "
   ]
  },
  {
   "cell_type": "markdown",
   "id": "4ba324ba",
   "metadata": {},
   "source": [
    "## Problem 4: Hashes\n"
   ]
  },
  {
   "cell_type": "code",
   "execution_count": 11,
   "id": "1567fdae",
   "metadata": {},
   "outputs": [],
   "source": [
    "# Write a function hash(current, block) that calculates the next hash value given the current hash value and the next message block according to section 6.2.2 SHA-256 Hash Computation on page 22 of the Secure Hash Standard."
   ]
  },
  {
   "cell_type": "markdown",
   "id": "a29081a2",
   "metadata": {},
   "source": [
    "## Problem 5: Passwords\n"
   ]
  },
  {
   "cell_type": "code",
   "execution_count": 12,
   "id": "016d9946",
   "metadata": {},
   "outputs": [],
   "source": [
    "# The following are the SHA-256 hashes of three common passwords that have been hashed using one pass of the SHA-256 algorithm. As strings, they were encoded using UTF-8. Determine the passwords and explain how you found them. "
   ]
  },
  {
   "cell_type": "markdown",
   "id": "32469bb5",
   "metadata": {},
   "source": [
    "## End"
   ]
  }
 ],
 "metadata": {
  "kernelspec": {
   "display_name": "base",
   "language": "python",
   "name": "python3"
  },
  "language_info": {
   "codemirror_mode": {
    "name": "ipython",
    "version": 3
   },
   "file_extension": ".py",
   "mimetype": "text/x-python",
   "name": "python",
   "nbconvert_exporter": "python",
   "pygments_lexer": "ipython3",
   "version": "3.12.7"
  }
 },
 "nbformat": 4,
 "nbformat_minor": 5
}
