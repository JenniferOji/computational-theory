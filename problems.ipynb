{
 "cells": [
  {
   "cell_type": "markdown",
   "id": "7f959f56",
   "metadata": {},
   "source": [
    "# Computational Theory "
   ]
  },
  {
   "cell_type": "code",
   "execution_count": 1780,
   "id": "c7fce335",
   "metadata": {},
   "outputs": [],
   "source": [
    "# for numerical data and methods \n",
    "import numpy as np "
   ]
  },
  {
   "cell_type": "markdown",
   "id": "bd857351",
   "metadata": {},
   "source": [
    "## Problem 1: Binary Words and Operations\n"
   ]
  },
  {
   "cell_type": "markdown",
   "id": "8334d2fe",
   "metadata": {},
   "source": [
    "The `numpy.int32()` constructor ([see official documentation] https://numpy.org/doc/stable/reference/arrays.scalars.html#numpy.int32) ensures that values are stored and treated as 32-bit signed integers in NumPy."
   ]
  },
  {
   "cell_type": "markdown",
   "id": "42bf46e4",
   "metadata": {},
   "source": [
    "### Parity Function\n",
    "The `parity` function calculates the bitwise XOR of three 32-bit integers, as defined in the SHA-1 algorithm. For each bit position, it returns a result of 1 when an odd number of the input values is set to 1, and 0 otherwise. This is implemented as `x ^ y ^ z`."
   ]
  },
  {
   "cell_type": "code",
   "execution_count": 1781,
   "id": "2100ead9",
   "metadata": {},
   "outputs": [],
   "source": [
    "def parity(x,y,z):\n",
    "    \"\"\"Calculate the parity of three 32-bit integers\"\"\"\n",
    "    # np.uint32 ensures inputs are treated as 32-bit unsigned integers as per SHA-1 specification.\n",
    "    # See: https://numpy.org/doc/stable/reference/arrays.scalars.html#numpy.uint32\n",
    "    # Mask with 0xFFFFFFFF to keep only the lower 32 bits, handles negative numbers correctly and simulates 32-bit overflow behavior.\n",
    "    x = np.uint32(x & 0xFFFFFFFF)\n",
    "    y = np.uint32(y & 0xFFFFFFFF)\n",
    "    z = np.uint32(z & 0xFFFFFFFF)\n",
    "\n",
    "    # Calculate the bitwise XOR of the three 32-bit values to get the parity.\n",
    "    parity_output = np.uint32(x ^ y ^ z)\n",
    "    # Return the result.\n",
    "    return parity_output"
   ]
  },
  {
   "cell_type": "markdown",
   "id": "39b46e3f",
   "metadata": {},
   "source": [
    "### Test Parity Function\n",
    "This section tests the `parity` function with various inputs to verify its correctness."
   ]
  },
  {
   "cell_type": "code",
   "execution_count": 1782,
   "id": "f23ff5db",
   "metadata": {},
   "outputs": [
    {
     "name": "stdout",
     "output_type": "stream",
     "text": [
      "TEST 1: parity(0, 0, 0)\n",
      "Result :   0x0 \n",
      "Expected :  0x0 \n",
      "Correct :  True\n",
      "\n",
      "TEST 2: parity(1, 0, 0)\n",
      "Result :   0x1 \n",
      "Expected :  0x1 \n",
      "Correct :  True\n",
      "\n",
      "TEST 3: parity(1, 1, 0)\n",
      "Result :   0x0 \n",
      "Expected :  0x0 \n",
      "Correct :  True\n",
      "\n",
      "TEST 4: parity(-1, -2, -3)\n",
      "Result :   0xfffffffc \n",
      "Expected :  0xfffffffc \n",
      "Correct :  True\n",
      "\n",
      "TEST 5: parity(2, -4, 5)\n",
      "Result :   0xfffffffb \n",
      "Expected :  0xfffffffb \n",
      "Correct :  True\n",
      "\n",
      "TEST 6: parity(1, 1, 1)\n",
      "Result :   0x1 \n",
      "Expected :  0x1 \n",
      "Correct :  True\n",
      "\n",
      "TEST 7: parity(-1, -1, -1)\n",
      "Result :   0xffffffff \n",
      "Expected :  0xffffffff \n",
      "Correct :  True\n"
     ]
    }
   ],
   "source": [
    "# Test parity function \n",
    "# Test 1: All zeros\n",
    "print(\"TEST 1: parity(0, 0, 0)\")\n",
    "test_result = parity(0, 0, 0)\n",
    "expected_result = 0\n",
    "print(\"Result :  \", hex(test_result), \"\\nExpected : \", hex(expected_result), \"\\nCorrect : \", test_result == expected_result)\n",
    "\n",
    "# Test 2: One non-zero input\n",
    "print(\"\\nTEST 2: parity(1, 0, 0)\")\n",
    "test_result = parity(1, 0, 0)\n",
    "expected_result = 1\n",
    "print(\"Result :  \", hex(test_result), \"\\nExpected : \", hex(expected_result), \"\\nCorrect : \", test_result == expected_result)\n",
    "\n",
    "# Test 3: Two non-zero inputs\n",
    "print(\"\\nTEST 3: parity(1, 1, 0)\")\n",
    "test_result = parity(1, 1, 0)\n",
    "expected_result = 0\n",
    "print(\"Result :  \", hex(test_result), \"\\nExpected : \", hex(expected_result), \"\\nCorrect : \", test_result == expected_result)\n",
    "\n",
    "# Test 4: Negative numbers\n",
    "print(\"\\nTEST 4: parity(-1, -2, -3)\")\n",
    "test_result = parity(-1, -2, -3)\n",
    "expected_result = 4294967292\n",
    "print(\"Result :  \", hex(test_result), \"\\nExpected : \", hex(expected_result), \"\\nCorrect : \", test_result == expected_result)\n",
    "\n",
    "# Test 5: Mixed inputs\n",
    "print(\"\\nTEST 5: parity(2, -4, 5)\")\n",
    "test_result = parity(2, -4, 5)\n",
    "expected_result = 4294967291\n",
    "print(\"Result :  \", hex(test_result), \"\\nExpected : \", hex(expected_result), \"\\nCorrect : \", test_result == expected_result)\n",
    "\n",
    "# Test 6: All ones\n",
    "print(\"\\nTEST 6: parity(1, 1, 1)\")\n",
    "test_result = parity(1, 1, 1)\n",
    "expected_result = 1\n",
    "print(\"Result :  \", hex(test_result), \"\\nExpected : \", hex(expected_result), \"\\nCorrect : \", test_result == expected_result)\n",
    "\n",
    "# Test 7: Three negative inputs\n",
    "print(\"\\nTEST 7: parity(-1, -1, -1)\")\n",
    "test_result = parity(-1, -1, -1)\n",
    "expected_result = 4294967295\n",
    "print(\"Result :  \", hex(test_result), \"\\nExpected : \", hex(expected_result), \"\\nCorrect : \", test_result == expected_result)"
   ]
  },
  {
   "cell_type": "markdown",
   "id": "b4444a35",
   "metadata": {},
   "source": [
    "### Ch (choose) Function\n",
    "The `choose` function, used in the SHA-224 and SHA-256 algorithms, calculates a conditional selection among three 32-bit integers. For each bit position, it returns the bit from y if the bit in x is 1, or the bit from z if the bit in x is 0. This is implemented as `(x & y) ^(~x & z)`."
   ]
  },
  {
   "cell_type": "code",
   "execution_count": 1783,
   "id": "f93d3da0",
   "metadata": {},
   "outputs": [],
   "source": [
    "def ch(x, y, z):\n",
    "    \"\"\"Calculate the choose function for three 32-bit integers\"\"\"\n",
    "    # np.uint32 ensures inputs are treated as 32-bit unsigned integers as per SHA-1 specification.\n",
    "    # See: https://numpy.org/doc/stable/reference/arrays.scalars.html#numpy.uint32\n",
    "    # Mask with 0xFFFFFFFF to keep only the lower 32 bits, handles negative numbers correctly and simulates 32-bit overflow behavior.\n",
    "    x = np.uint32(x & 0xFFFFFFFF)\n",
    "    y = np.uint32(y & 0xFFFFFFFF)\n",
    "    z = np.uint32(z & 0xFFFFFFFF)\n",
    "    \n",
    "    # Bitwise AND of x and y.\n",
    "    bitwise_and = (x & y)\n",
    "    # Bitwise complement of x, then AND with z.\n",
    "    bitwise_complement_and = (~x) & z\n",
    "    # Calculate the bitwise XOR of the two results and cast to 32-bit integer.\n",
    "    # This selects bits from y or z based on the value of x.\n",
    "    ch_output = np.uint32(bitwise_and ^ bitwise_complement_and)\n",
    "    \n",
    "    # Return the result.\n",
    "    return ch_output "
   ]
  },
  {
   "cell_type": "markdown",
   "id": "ad9fbfc6",
   "metadata": {},
   "source": [
    "### Test Ch Function\n",
    "This section tests the `ch` function with various inputs to verify its correctness."
   ]
  },
  {
   "cell_type": "code",
   "execution_count": 1784,
   "id": "ffa5215c",
   "metadata": {},
   "outputs": [
    {
     "name": "stdout",
     "output_type": "stream",
     "text": [
      "TEST 1: ch(0, 0, 0)\n",
      "Result :   0x0 \n",
      "Expected :  0x0 \n",
      "Correct :  True\n",
      "\n",
      "TEST 2: ch(1, 1, 1)\n",
      "Result :   0x1 \n",
      "Expected :  0x1 \n",
      "Correct :  True\n",
      "\n",
      "TEST 3: ch(0, 0, 1)\n",
      "Result :   0x1 \n",
      "Expected :  0x1 \n",
      "Correct :  True\n",
      "\n",
      "TEST 4: ch(1, 1, 0)\n",
      "Result :   0x1 \n",
      "Expected :  0x1 \n",
      "Correct :  True\n",
      "\n",
      "TEST 5: ch(-1, -1, -1)\n",
      "Result :   0xffffffff \n",
      "Expected :  0xffffffff \n",
      "Correct :  True\n",
      "\n",
      "TEST 6: ch(-1, 0, 1)\n",
      "Result :   0x0 \n",
      "Expected :  0x0 \n",
      "Correct :  True\n"
     ]
    }
   ],
   "source": [
    "# Test ch function \n",
    "# Test 1: All zeros\n",
    "print(\"TEST 1: ch(0, 0, 0)\")\n",
    "test_result = ch(0, 0, 0)\n",
    "expected_result = 0\n",
    "print(\"Result :  \", hex(test_result), \"\\nExpected : \", hex(expected_result), \"\\nCorrect : \", test_result == expected_result)\n",
    "\n",
    "# Test 2: All ones\n",
    "print(\"\\nTEST 2: ch(1, 1, 1)\")\n",
    "test_result = ch(1, 1, 1)\n",
    "expected_result = 1\n",
    "print(\"Result :  \", hex(test_result), \"\\nExpected : \", hex(expected_result), \"\\nCorrect : \", test_result == expected_result)\n",
    "\n",
    "# Test 3: Only z is non-zero\n",
    "print(\"\\nTEST 3: ch(0, 0, 1)\")\n",
    "test_result = ch(0, 0, 1)\n",
    "expected_result = 1\n",
    "print(\"Result :  \", hex(test_result), \"\\nExpected : \", hex(expected_result), \"\\nCorrect : \", test_result == expected_result)\n",
    "\n",
    "# Test 4: Only z is zero\n",
    "print(\"\\nTEST 4: ch(1, 1, 0)\")\n",
    "test_result = ch(1, 1, 0)\n",
    "expected_result = 1\n",
    "print(\"Result :  \", hex(test_result), \"\\nExpected : \", hex(expected_result), \"\\nCorrect : \", test_result == expected_result)\n",
    "\n",
    "# Test 5: All negative ones\n",
    "print(\"\\nTEST 5: ch(-1, -1, -1)\")\n",
    "test_result = ch(-1, -1, -1)\n",
    "expected_result = 4294967295\n",
    "print(\"Result :  \", hex(test_result), \"\\nExpected : \", hex(expected_result), \"\\nCorrect : \", test_result == expected_result)\n",
    "\n",
    "# Test 6: Negative and positive numbers \n",
    "print(\"\\nTEST 6: ch(-1, 0, 1)\")\n",
    "test_result = ch(-1, 0, 1)\n",
    "expected_result = 0\n",
    "print(\"Result :  \", hex(test_result), \"\\nExpected : \", hex(expected_result), \"\\nCorrect : \", test_result == expected_result)\n"
   ]
  },
  {
   "cell_type": "markdown",
   "id": "3aead48f",
   "metadata": {},
   "source": [
    "### Majority Function\n",
    "The `maj` function, used in the SHA-224 and SHA-256 algorithms, calculates the majority value among three 32-bit integers. For each bit position, it returns 1 if at least two of the three bits among x, y, and z are 1, and 0 otherwise. This is implemented as `(x & y) ^ (x & z) ^ (y & z)`."
   ]
  },
  {
   "cell_type": "code",
   "execution_count": 1785,
   "id": "e5e10dbd",
   "metadata": {},
   "outputs": [],
   "source": [
    "def maj(x, y, z):\n",
    "    \"\"\"Calculate the majority value of three 32-bit integers.\"\"\"\n",
    "    # The np.uint32() constructor ensures inputs are treated as unsigned 32-bit integers. \n",
    "    # See: https://numpy.org/doc/stable/reference/arrays.scalars.html#numpy.uint32\n",
    "    # Mask with 0xFFFFFFFF to ensure only the lower 32 bits are kept to handle negative inputs correctly.\n",
    "    x = np.uint32(x & 0xFFFFFFFF)\n",
    "    y = np.uint32(y & 0xFFFFFFFF)\n",
    "    z = np.uint32(z & 0xFFFFFFFF)\n",
    "\n",
    "    # Bitwise AND of x and y.\n",
    "    bitwise_and_x_y = (x & y)   \n",
    "    # Bitwise AND of x and z.\n",
    "    bitwise_and_x_z = (x & z) \n",
    "    # Bitwise AND of y and z.   \n",
    "    bitwise_and_y_z = (y & z)   \n",
    "\n",
    "    # Calculate the bitwise XOR of the three results to get the majority value and cast to a 32-bit integer.\n",
    "    maj_output = np.uint32(bitwise_and_x_y ^ bitwise_and_x_z ^ bitwise_and_y_z)\n",
    "    # Return the result.\n",
    "    return maj_output "
   ]
  },
  {
   "cell_type": "markdown",
   "id": "e8242160",
   "metadata": {},
   "source": [
    "### Test Maj Function\n",
    "This section tests the `maj` function with various inputs to verify its correctness."
   ]
  },
  {
   "cell_type": "code",
   "execution_count": 1786,
   "id": "441b0b48",
   "metadata": {},
   "outputs": [
    {
     "name": "stdout",
     "output_type": "stream",
     "text": [
      "TEST 1: maj(0, 0, 0)\n",
      "Result   :  0x0 \n",
      "Expected :  0x0 \n",
      "Correct  :  True\n",
      "\n",
      "TEST 2: maj(1, 1, 1)\n",
      "Result   :  0x1 \n",
      "Expected :  0x1 \n",
      "Correct :  True\n",
      "\n",
      "TEST 3: maj(1, 0, 0)\n",
      "Result   :  0x0 \n",
      "Expected :  0x0 \n",
      "Correct  :  True\n",
      "\n",
      "TEST 4: maj(2, 2, 0)\n",
      "Result   :  0x2 \n",
      "Expected :  0x2 \n",
      "Correct  :  True\n",
      "\n",
      "TEST 5: maj(3, 5, 7)\n",
      "Result   :  0x7 \n",
      "Expected :  0x7 \n",
      "Correct  :  True\n"
     ]
    }
   ],
   "source": [
    "# Test maj function\n",
    "# Test 1: All zeros\n",
    "print(\"TEST 1: maj(0, 0, 0)\")\n",
    "test_result = maj(0, 0, 0)\n",
    "expected_result = 0\n",
    "print(\"Result   : \", hex(test_result), \"\\nExpected : \", hex(expected_result), \"\\nCorrect  : \", test_result == expected_result)\n",
    "\n",
    "# Test 2: All ones\n",
    "print(\"\\nTEST 2: maj(1, 1, 1)\")\n",
    "test_result = maj(1, 1, 1)\n",
    "expected_result = 1\n",
    "print(\"Result   : \", hex(test_result), \"\\nExpected : \", hex(expected_result), \"\\nCorrect : \", test_result == expected_result)\n",
    "\n",
    "# Test 3: One non-zero input\n",
    "print(\"\\nTEST 3: maj(1, 0, 0)\")\n",
    "test_result = maj(1, 0, 0)\n",
    "expected_result = 0\n",
    "print(\"Result   : \", hex(test_result), \"\\nExpected : \", hex(expected_result), \"\\nCorrect  : \", test_result == expected_result)\n",
    "\n",
    "# Test 4: Two non-zero inputs\n",
    "print(\"\\nTEST 4: maj(2, 2, 0)\")\n",
    "test_result = maj(2, 2, 0)\n",
    "expected_result = 2\n",
    "print(\"Result   : \", hex(test_result), \"\\nExpected : \", hex(expected_result), \"\\nCorrect  : \", test_result == expected_result)\n",
    "\n",
    "# Test 5: All different numbers\n",
    "print(\"\\nTEST 5: maj(3, 5, 7)\")\n",
    "test_result = maj(3, 5, 7)\n",
    "expected_result = 7\n",
    "print(\"Result   : \", hex(test_result), \"\\nExpected : \", hex(expected_result), \"\\nCorrect  : \", test_result == expected_result)"
   ]
  },
  {
   "cell_type": "code",
   "execution_count": 1787,
   "id": "25fdec6d",
   "metadata": {},
   "outputs": [],
   "source": [
    "def rotr(x,n):\n",
    "    \"\"\"Rotate right operation for 32-bit words: A helper function for the sigma functions.\"\"\"\n",
    "    # The np.uint32() constructor ensures inputs are treated as unsigned 32-bit integers. \n",
    "    # See: https://numpy.org/doc/stable/reference/arrays.scalars.html#numpy.uint32\n",
    "    x = np.uint32(x)\n",
    "    # 32 bit word size\n",
    "    return np.uint32(((x >> n) | (x << np.uint32(32 - n))) & np.uint32(0xFFFFFFFF))\n"
   ]
  },
  {
   "cell_type": "markdown",
   "id": "55674fbb",
   "metadata": {},
   "source": [
    "### Sigma0 Function\n",
    "In the SHA-224 and SHA-256 algorithms, the `sigma0` function applies a series of bitwise operations to a single 32-bit integer.  It computes the bitwise XOR of three rotated versions of the input value — one by two bits to the right, one by thirteen bits, and one by twenty-two bits. This is implemented as `ROTR^2(x) ^ ROTR^13(x) ^ ROTR^22(x)`."
   ]
  },
  {
   "cell_type": "code",
   "execution_count": 1788,
   "id": "846398be",
   "metadata": {},
   "outputs": [],
   "source": [
    "def sigma_upper_0(x):\n",
    "    \"\"\"Calculate the Sigma0 value for a 32-bit integer.\"\"\"\n",
    "    # The np.uint32() constructor ensures inputs are treated as unsigned 32-bit integers. \n",
    "    # See: https://numpy.org/doc/stable/reference/arrays.scalars.html#numpy.uint32\n",
    "    # Mask with 0xFFFFFFFF to ensure only the lower 32 bits are kept to handle negative inputs correctly.\n",
    "    x = np.uint32(x & 0xFFFFFFFF)\n",
    "    \n",
    "    # Compute the bitwise XOR of three right rotated versions of the input value(x).\n",
    "    return (rotr(x, 2) ^ rotr(x, 13) ^ rotr(x, 22))\n"
   ]
  },
  {
   "cell_type": "markdown",
   "id": "08e0c445",
   "metadata": {},
   "source": [
    "### Test Sigma0 Function\n",
    "This section tests the `Sigma0` function with various inputs to verify its correctness."
   ]
  },
  {
   "cell_type": "code",
   "execution_count": 1789,
   "id": "d1040ce0",
   "metadata": {},
   "outputs": [
    {
     "name": "stdout",
     "output_type": "stream",
     "text": [
      "\n",
      "TEST 1: sigma_upper_0(5)\n",
      "Result :   0x40281401 \n",
      "Expected :  0x40281401 \n",
      "Correct :  True\n",
      "\n",
      "TEST 2: sigma_upper_0(0)\n",
      "Result :   0x0 \n",
      "Expected :  0x0 \n",
      "Correct :  True\n",
      "\n",
      "TEST 3: sigma_upper_0(1)\n",
      "Result :   0x40080400 \n",
      "Expected :  0x40080400 \n",
      "Correct :  True\n",
      "\n",
      "TEST 4: sigma_upper_0(-1)\n",
      "Result :   0xffffffff \n",
      "Expected :  0xffffffff \n",
      "Correct :  True\n"
     ]
    }
   ],
   "source": [
    "# Test 1: A number other than 0 or 1\n",
    "print(\"\\nTEST 1: sigma_upper_0(5)\")\n",
    "test_result = sigma_upper_0(5)\n",
    "expected_result = 1076368385\n",
    "print(\"Result :  \", hex(test_result), \"\\nExpected : \", hex(expected_result), \"\\nCorrect : \", test_result == expected_result)\n",
    "\n",
    "# Test 2: A zero input\n",
    "print(\"\\nTEST 2: sigma_upper_0(0)\")\n",
    "test_result = sigma_upper_0(0)\n",
    "expected_result = 0\n",
    "print(\"Result :  \", hex(test_result), \"\\nExpected : \", hex(expected_result), \"\\nCorrect : \", test_result == expected_result)\n",
    "\n",
    "# Test 3: Input of one\n",
    "print(\"\\nTEST 3: sigma_upper_0(1)\")\n",
    "test_result = sigma_upper_0(1)\n",
    "expected_result = 1074267136\n",
    "print(\"Result :  \", hex(test_result), \"\\nExpected : \", hex(expected_result), \"\\nCorrect : \", test_result == expected_result)\n",
    "\n",
    "# Test 4: A negative input\n",
    "print(\"\\nTEST 4: sigma_upper_0(-1)\")\n",
    "test_result = sigma_upper_0(-1)\n",
    "expected_result = 4294967295\n",
    "print(\"Result :  \", hex(test_result), \"\\nExpected : \", hex(expected_result), \"\\nCorrect : \", test_result == expected_result)"
   ]
  },
  {
   "cell_type": "markdown",
   "id": "632f7223",
   "metadata": {},
   "source": [
    "### Sigma1 Function \n",
    "In the SHA-224 and SHA-256 algorithms, the `Sigma1` function applies a series of bitwise operations to a single 32-bit integer.  It computes the bitwise XOR of three rotated versions of the input value — one by six bits to the right, one by 11 bits, and one by twenty-five bits. This is implemented as `ROTR^6(x) ^ ROTR^11(x) ^ ROTR^25(x)`."
   ]
  },
  {
   "cell_type": "code",
   "execution_count": 1790,
   "id": "a6b2cc4d",
   "metadata": {},
   "outputs": [],
   "source": [
    "def sigma_upper_1(x):\n",
    "    \"\"\"Calculate the Sigma1 value for a 32-bit integer.\"\"\"\n",
    "    # The np.uint32() constructor ensures inputs are treated as unsigned 32-bit integers. \n",
    "    # See: https://numpy.org/doc/stable/reference/arrays.scalars.html#numpy.uint32\n",
    "    # Mask with 0xFFFFFFFF to ensure only the lower 32 bits are kept to handle negative inputs correctly.\n",
    "    x = np.uint32(x & 0xFFFFFFFF)\n",
    "\n",
    "    # Compute the bitwise XOR of three right-rotated versions of the input value(x).\n",
    "    return (rotr(x, 6) ^ rotr(x, 11) ^ rotr(x, 25))"
   ]
  },
  {
   "cell_type": "markdown",
   "id": "6c5006d8",
   "metadata": {},
   "source": [
    "### Test Sigma1 Function\n",
    "This section tests the `Sigma1` function with various inputs to verify its correctness."
   ]
  },
  {
   "cell_type": "code",
   "execution_count": 1791,
   "id": "8cd26cca",
   "metadata": {},
   "outputs": [
    {
     "name": "stdout",
     "output_type": "stream",
     "text": [
      "\n",
      "TEST 1: sigma_upper_1(5)\n",
      "Result :   0x14a00280 \n",
      "Expected :  0x14a00280 \n",
      "Correct :  True\n",
      "\n",
      "TEST 2: sigma_upper_1(0)\n",
      "Result :   0x0 \n",
      "Expected :  0x0 \n",
      "Correct :  True\n",
      "\n",
      "TEST 3: sigma_upper_1(1)\n",
      "Result :   0x4200080 \n",
      "Expected :  0x4200080 \n",
      "Correct :  True\n",
      "\n",
      "TEST 4: sigma_upper_1(-1)\n",
      "Result :   0xffffffff \n",
      "Expected :  0xffffffff \n",
      "Correct :  True\n"
     ]
    }
   ],
   "source": [
    "# Test 1: Input other than 0 or 1\n",
    "print(\"\\nTEST 1: sigma_upper_1(5)\")\n",
    "test_result = sigma_upper_1(5)\n",
    "expected_result = 346030720  \n",
    "print(\"Result :  \", hex(test_result), \"\\nExpected : \", hex(expected_result), \"\\nCorrect : \", test_result == expected_result)\n",
    "\n",
    "# Test 2: A zero input\n",
    "print(\"\\nTEST 2: sigma_upper_1(0)\")\n",
    "test_result = sigma_upper_1(0)\n",
    "expected_result = 0 \n",
    "print(\"Result :  \", hex(test_result), \"\\nExpected : \", hex(expected_result), \"\\nCorrect : \", test_result == expected_result)\n",
    "\n",
    "# Test 3: An input of one\n",
    "print(\"\\nTEST 3: sigma_upper_1(1)\")\n",
    "test_result = sigma_upper_1(1)\n",
    "expected_result = 69206144 \n",
    "print(\"Result :  \", hex(test_result), \"\\nExpected : \", hex(expected_result), \"\\nCorrect : \", test_result == expected_result)\n",
    "\n",
    "# Test 4: A negative input\n",
    "print(\"\\nTEST 4: sigma_upper_1(-1)\")\n",
    "test_result = sigma_upper_1(-1)\n",
    "expected_result = 4294967295  \n",
    "print(\"Result :  \", hex(test_result), \"\\nExpected : \", hex(expected_result), \"\\nCorrect : \", test_result == expected_result)\n"
   ]
  },
  {
   "cell_type": "markdown",
   "id": "a951f659",
   "metadata": {},
   "source": []
  },
  {
   "cell_type": "markdown",
   "id": "3d1c152d",
   "metadata": {},
   "source": [
    "### The sigma0 Function \n",
    "In the SHA-224 and SHA-256 algorithms, the `sigma0` function applies a series of bitwise operations to a single 32-bit integer. It computes the bitwise XOR of two right-rotated versions of the input value—one rotated right by 7 bits, one rotated right by 18 bits—and the value shifted right by 3 bits. This is implemented as `ROTR^7(x) ^ ROTR^18(x) ^ SHR^3(x)`."
   ]
  },
  {
   "cell_type": "code",
   "execution_count": 1792,
   "id": "2948639f",
   "metadata": {},
   "outputs": [],
   "source": [
    "def sigma_lower_0(x):\n",
    "    \"\"\"Calculate the sigma0 value for a 32-bit integer.\"\"\"\n",
    "    # The np.uint32() constructor ensures inputs are treated as unsigned 32-bit integers. \n",
    "    # See: https://numpy.org/doc/stable/reference/arrays.scalars.html#numpy.uint32\n",
    "    # Mask with 0xFFFFFFFF to ensure only the lower 32 bits are kept to handle negative inputs correctly.\n",
    "    x = np.uint32(x & 0xFFFFFFFF)\n",
    "\n",
    "    # Compute the bitwise XOR of two right-rotated versions of the input value and the right-shifted value.\n",
    "    return (rotr(x, 7) ^ rotr(x, 18) ^ (x >> 3))"
   ]
  },
  {
   "cell_type": "markdown",
   "id": "1cae631c",
   "metadata": {},
   "source": [
    "### Test sigma0 Function \n",
    "This section tests the `sigma0` function with various inputs to verify its correctness."
   ]
  },
  {
   "cell_type": "code",
   "execution_count": 1793,
   "id": "67da66d9",
   "metadata": {},
   "outputs": [
    {
     "name": "stdout",
     "output_type": "stream",
     "text": [
      "\n",
      "TEST 1: sigma_lower_0(5)\n",
      "Result :   167854080 \n",
      "Expected :  167854080 \n",
      "Correct :  True\n",
      "\n",
      "TEST 2: sigma_lower_0(0)\n",
      "Result :   0 \n",
      "Expected :  0 \n",
      "Correct :  True\n",
      "\n",
      "TEST 3: sigma_lower_0(1)\n",
      "Result :   33570816 \n",
      "Expected :  33570816 \n",
      "Correct :  True\n",
      "\n",
      "TEST 4: sigma_lower_0(-1)\n",
      "Result :   536870911 \n",
      "Expected :  536870911 \n",
      "Correct :  True\n"
     ]
    }
   ],
   "source": [
    "# Test 1: Input other than 0 or 1\n",
    "print(\"\\nTEST 1: sigma_lower_0(5)\")\n",
    "test_result = sigma_lower_0(5)\n",
    "expected_result = 167854080  \n",
    "print(\"Result :  \", test_result, \"\\nExpected : \", expected_result, \"\\nCorrect : \", test_result == expected_result)\n",
    "\n",
    "# Test 2: A zero input\n",
    "print(\"\\nTEST 2: sigma_lower_0(0)\")\n",
    "test_result = sigma_lower_0(0)\n",
    "expected_result = 0  \n",
    "print(\"Result :  \", test_result, \"\\nExpected : \", expected_result, \"\\nCorrect : \", test_result == expected_result)\n",
    "\n",
    "# Test 3: An input of one\n",
    "print(\"\\nTEST 3: sigma_lower_0(1)\")\n",
    "test_result = sigma_lower_0(1)\n",
    "expected_result = 33570816 \n",
    "print(\"Result :  \", test_result, \"\\nExpected : \", expected_result, \"\\nCorrect : \", test_result == expected_result)\n",
    "\n",
    "# Test 4: A negative input\n",
    "print(\"\\nTEST 4: sigma_lower_0(-1)\")\n",
    "test_result = sigma_lower_0(-1)\n",
    "expected_result = 536870911\n",
    "print(\"Result :  \", test_result, \"\\nExpected : \", expected_result, \"\\nCorrect : \", test_result == expected_result)"
   ]
  },
  {
   "cell_type": "markdown",
   "id": "dd874018",
   "metadata": {},
   "source": [
    "### The sigma0 Function \n",
    "In the SHA-224 and SHA-256 algorithms, the `sigma0` function applies a series of bitwise operations to a single 32-bit integer. It computes the bitwise XOR of two right-rotated versions of the input value—one rotated right by 7 bits, one rotated right by 18 bits—and the value shifted right by 3 bits. This is implemented as `ROTR^7(x) ^ ROTR^18(x) ^ SHR^3(x)`.\n"
   ]
  },
  {
   "cell_type": "code",
   "execution_count": 1794,
   "id": "b2f70bee",
   "metadata": {},
   "outputs": [],
   "source": [
    "def sigma_lower_0(x):\n",
    "    \"\"\"Calculate the sigma0 value for a 32-bit integer.\"\"\"\n",
    "    # The np.uint32() constructor ensures inputs are treated as unsigned 32-bit integers. \n",
    "    # See: https://numpy.org/doc/stable/reference/arrays.scalars.html#numpy.uint32\n",
    "    # Mask with 0xFFFFFFFF to ensure only the lower 32 bits are kept to handle negative inputs correctly.\n",
    "    x = np.uint32(x & 0xFFFFFFFF)\n",
    "\n",
    "    # Compute the bitwise XOR of two right-rotated versions of the input value and the right-shifted value.\n",
    "    return (rotr(x, 7) ^ rotr(x, 18) ^ (x >> 3))"
   ]
  },
  {
   "cell_type": "markdown",
   "id": "f598b3b6",
   "metadata": {},
   "source": [
    "### Test sigma0 Function \n",
    "This section tests the `sigma0` function with various inputs to verify its correctness.\n"
   ]
  },
  {
   "cell_type": "code",
   "execution_count": 1795,
   "id": "ea07f684",
   "metadata": {},
   "outputs": [
    {
     "name": "stdout",
     "output_type": "stream",
     "text": [
      "\n",
      "TEST 1: sigma_lower_0(5)\n",
      "Result :   167854080 \n",
      "Expected :  167854080 \n",
      "Correct :  True\n",
      "\n",
      "TEST 2: sigma_lower_0(0)\n",
      "Result :   0 \n",
      "Expected :  0 \n",
      "Correct :  True\n",
      "\n",
      "TEST 3: sigma_lower_0(1)\n",
      "Result :   33570816 \n",
      "Expected :  33570816 \n",
      "Correct :  True\n",
      "\n",
      "TEST 4: sigma_lower_0(-1)\n",
      "Result :   536870911 \n",
      "Expected :  536870911 \n",
      "Correct :  True\n"
     ]
    }
   ],
   "source": [
    "# Test 1: Input other than 0 or 1\n",
    "print(\"\\nTEST 1: sigma_lower_0(5)\")\n",
    "test_result = sigma_lower_0(5)\n",
    "expected_result = 167854080  \n",
    "print(\"Result :  \", test_result, \"\\nExpected : \", expected_result, \"\\nCorrect : \", test_result == expected_result)\n",
    "\n",
    "# Test 2: A zero input\n",
    "print(\"\\nTEST 2: sigma_lower_0(0)\")\n",
    "test_result = sigma_lower_0(0)\n",
    "expected_result = 0  \n",
    "print(\"Result :  \", test_result, \"\\nExpected : \", expected_result, \"\\nCorrect : \", test_result == expected_result)\n",
    "\n",
    "# Test 3: An input of one\n",
    "print(\"\\nTEST 3: sigma_lower_0(1)\")\n",
    "test_result = sigma_lower_0(1)\n",
    "expected_result = 33570816 \n",
    "print(\"Result :  \", test_result, \"\\nExpected : \", expected_result, \"\\nCorrect : \", test_result == expected_result)\n",
    "\n",
    "# Test 4: A negative input\n",
    "print(\"\\nTEST 4: sigma_lower_0(-1)\")\n",
    "test_result = sigma_lower_0(-1)\n",
    "expected_result = 536870911\n",
    "print(\"Result :  \", test_result, \"\\nExpected : \", expected_result, \"\\nCorrect : \", test_result == expected_result)"
   ]
  },
  {
   "cell_type": "markdown",
   "id": "e2620a8c",
   "metadata": {},
   "source": [
    "## Problem 2: Fractional Parts of Cube Roots \n"
   ]
  },
  {
   "cell_type": "code",
   "execution_count": 1796,
   "id": "fa6d20e1",
   "metadata": {},
   "outputs": [],
   "source": [
    "# Write a function called primes(n) that generates the first n prime numbers.\n",
    "\n",
    "# Use the function to calculate the cube root of the first 64 primes.\n",
    "\n",
    "# For each cube root, extract the first thirty-two bits of the fractional part.\n",
    "\n",
    "# Display the result in hexadecimal.\n",
    "\n",
    "# Test the results against what is in the Secure Hash Standard."
   ]
  },
  {
   "cell_type": "markdown",
   "id": "038e30a9",
   "metadata": {},
   "source": [
    "## Problem 3: Padding\n"
   ]
  },
  {
   "cell_type": "code",
   "execution_count": 1797,
   "id": "4dd8118d",
   "metadata": {},
   "outputs": [],
   "source": [
    "# Write a generator function block_parse(msg) that processes messages according to section 5.1.1 and 5.2.1 of the Secure Hash Standard. "
   ]
  },
  {
   "cell_type": "markdown",
   "id": "4ba324ba",
   "metadata": {},
   "source": [
    "## Problem 4: Hashes\n"
   ]
  },
  {
   "cell_type": "code",
   "execution_count": 1798,
   "id": "1567fdae",
   "metadata": {},
   "outputs": [],
   "source": [
    "# Write a function hash(current, block) that calculates the next hash value given the current hash value and the next message block according to section 6.2.2 SHA-256 Hash Computation on page 22 of the Secure Hash Standard."
   ]
  },
  {
   "cell_type": "markdown",
   "id": "a29081a2",
   "metadata": {},
   "source": [
    "## Problem 5: Passwords\n"
   ]
  },
  {
   "cell_type": "code",
   "execution_count": 1799,
   "id": "016d9946",
   "metadata": {},
   "outputs": [],
   "source": [
    "# The following are the SHA-256 hashes of three common passwords that have been hashed using one pass of the SHA-256 algorithm. As strings, they were encoded using UTF-8. Determine the passwords and explain how you found them. "
   ]
  },
  {
   "cell_type": "markdown",
   "id": "32469bb5",
   "metadata": {},
   "source": [
    "## End"
   ]
  }
 ],
 "metadata": {
  "kernelspec": {
   "display_name": "base",
   "language": "python",
   "name": "python3"
  },
  "language_info": {
   "codemirror_mode": {
    "name": "ipython",
    "version": 3
   },
   "file_extension": ".py",
   "mimetype": "text/x-python",
   "name": "python",
   "nbconvert_exporter": "python",
   "pygments_lexer": "ipython3",
   "version": "3.12.7"
  }
 },
 "nbformat": 4,
 "nbformat_minor": 5
}
